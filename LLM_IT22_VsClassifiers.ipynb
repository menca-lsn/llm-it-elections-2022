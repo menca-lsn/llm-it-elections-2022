{
 "cells": [
  {
   "cell_type": "code",
   "execution_count": 90,
   "metadata": {
    "colab": {
     "base_uri": "https://localhost:8080/"
    },
    "executionInfo": {
     "elapsed": 2146,
     "status": "ok",
     "timestamp": 1732096921304,
     "user": {
      "displayName": "Alessandro Mencarelli",
      "userId": "05351860346435535412"
     },
     "user_tz": -60
    },
    "id": "LH1gTAF4peQp",
    "outputId": "36cc0fd8-67c4-4ca8-bbaa-1ac16bbbbcbe"
   },
   "outputs": [
    {
     "name": "stdout",
     "output_type": "stream",
     "text": [
      "Drive already mounted at /content/drive; to attempt to forcibly remount, call drive.mount(\"/content/drive\", force_remount=True).\n"
     ]
    }
   ],
   "source": [
    "# !pip install -U sentence-transformers\n",
    "\n",
    "# Numerical and Data Manipulation\n",
    "import numpy as np\n",
    "import pandas as pd\n",
    "# Files\n",
    "import joblib\n",
    "import json\n",
    "# Tools\n",
    "from google.colab import drive\n",
    "from IPython.display import clear_output\n",
    "from tqdm import tqdm\n",
    "# Machine Learning Models\n",
    "from sklearn.ensemble import RandomForestClassifier\n",
    "from xgboost import XGBClassifier\n",
    "from sentence_transformers import SentenceTransformer\n",
    "# Plotting Libraries\n",
    "import matplotlib.pyplot as plt\n",
    "import seaborn as sns\n",
    "# Scikit-learn Metrics and Preprocessing\n",
    "from sklearn.metrics import (\n",
    "    accuracy_score,\n",
    "    f1_score,\n",
    "    confusion_matrix,\n",
    "    classification_report,\n",
    "    roc_curve,\n",
    "    auc\n",
    ")\n",
    "from sklearn.model_selection import train_test_split, GridSearchCV, cross_val_score, cross_val_predict, StratifiedKFold\n",
    "# XGBoost Plotting Function\n",
    "from xgboost import plot_importance\n",
    "\n",
    "\n",
    "clear_output()\n",
    "# drive.mount('/content/drive')\n",
    "\n",
    "ads_choice = ['real-vs-fs', 'real-vs-zs', 'real-vs-gen']\n",
    "ads = ads_choice[2]\n",
    "\n",
    "hypertune = False"
   ]
  },
  {
   "cell_type": "markdown",
   "metadata": {
    "id": "JHJOPd5FnPLR"
   },
   "source": [
    "# Import Ads and Embeddings"
   ]
  },
  {
   "cell_type": "markdown",
   "metadata": {
    "id": "WHEjBjNwULzy"
   },
   "source": [
    "**Real Ads**"
   ]
  },
  {
   "cell_type": "code",
   "execution_count": 91,
   "metadata": {
    "colab": {
     "base_uri": "https://localhost:8080/"
    },
    "executionInfo": {
     "elapsed": 342,
     "status": "ok",
     "timestamp": 1732096921644,
     "user": {
      "displayName": "Alessandro Mencarelli",
      "userId": "05351860346435535412"
     },
     "user_tz": -60
    },
    "id": "2KirJoEH5iq4",
    "outputId": "f8dd74da-4c95-4760-afea-a520e4973d76"
   },
   "outputs": [
    {
     "name": "stdout",
     "output_type": "stream",
     "text": [
      "635 635 635\n"
     ]
    }
   ],
   "source": [
    "# Load data\n",
    "# data = pd.read_csv('IT22_withEmbeddings.csv')\n",
    "main_pages_data = pd.read_csv('data/real_ads_embeddings.csv')\n",
    "\n",
    "# Convert 'bert_embeddings' column back to lists of floats\n",
    "main_pages_data['bert_embeddings'] = main_pages_data['bert_embeddings'].apply(lambda x: np.array(list(map(float, x.split(',')))))\n",
    "\n",
    "# Get ordered embeddings by party\n",
    "main_parties = sorted(main_pages_data['party'].unique())\n",
    "\n",
    "main_parties_labels = [\"3POLO\", \"AVD\", \"FDI\", \"FI\", \"LEGA\", \"M5S\", \"PD\", \"Complete\\nDataset\"]\n",
    "\n",
    "embeddings_list = []\n",
    "labels_list = []\n",
    "text_list = []\n",
    "\n",
    "for i, party in enumerate(main_parties):\n",
    "    party_data = main_pages_data[main_pages_data['party'] == party]\n",
    "    embeddings = np.vstack(party_data['bert_embeddings'].to_numpy())\n",
    "    texts = party_data['ad_creative_bodies'].tolist()\n",
    "\n",
    "    embeddings_list.append(embeddings)\n",
    "    labels_list.append(np.full(len(party_data), i))\n",
    "    text_list.extend(texts)\n",
    "\n",
    "ra_ordered_embeddings = np.vstack(embeddings_list)\n",
    "ra_party_labels = np.concatenate(labels_list)\n",
    "ra_ordered_text = text_list\n",
    "\n",
    "print(len(ra_ordered_embeddings), len(ra_party_labels), len(ra_ordered_text))\n"
   ]
  },
  {
   "cell_type": "markdown",
   "metadata": {
    "id": "Q0t6qP9BkwuX"
   },
   "source": [
    "**[3.1] Few Shots**"
   ]
  },
  {
   "cell_type": "code",
   "execution_count": 92,
   "metadata": {
    "colab": {
     "base_uri": "https://localhost:8080/"
    },
    "executionInfo": {
     "elapsed": 2151,
     "status": "ok",
     "timestamp": 1732096923793,
     "user": {
      "displayName": "Alessandro Mencarelli",
      "userId": "05351860346435535412"
     },
     "user_tz": -60
    },
    "id": "sPZzhsNsk1LT",
    "outputId": "b5e35ba9-af3d-4f12-cc39-daad7e9c8d09"
   },
   "outputs": [
    {
     "name": "stdout",
     "output_type": "stream",
     "text": [
      "700 700 700\n"
     ]
    }
   ],
   "source": [
    "# Load the CSV file\n",
    "fs_gen_text_embeddings_df = pd.read_csv('mp_gen_text_party_2_embeddings.csv')\n",
    "\n",
    "ads_per_party = 100\n",
    "\n",
    "# Convert the 'gen_text_embeddings' column back to lists of NumPy arrays\n",
    "fs_gen_text_embeddings_df['gen_text_embeddings'] = fs_gen_text_embeddings_df['gen_text_embeddings'].apply(\n",
    "    lambda x: [np.array(list(map(float, embedding.split(',')))) for embedding in x.split('|')]\n",
    ")\n",
    "\n",
    "# Add the 'party' column from the main_parties list\n",
    "fs_gen_text_embeddings_df['party'] = main_parties\n",
    "\n",
    "# Reorder columns to place 'party' first\n",
    "fs_gen_text_embeddings_df = fs_gen_text_embeddings_df[['party', 'gen_text_embeddings']]\n",
    "\n",
    "# # Get ordered embeddings by party\n",
    "fs_ordered_embeddings = np.vstack([np.vstack(fs_gen_text_embeddings_df[fs_gen_text_embeddings_df['party'] == party]['gen_text_embeddings'].to_numpy())\n",
    "                                   for party in main_parties])\n",
    "\n",
    "# Generate labels for each party\n",
    "fs_party_labels = np.concatenate([np.full(ads_per_party, i)\n",
    "                               for i, party in enumerate(main_parties)])\n",
    "\n",
    "# Import the CSV file\n",
    "fs_gen_text_df = pd.read_csv('mp_generated_ads_party_2.csv')\n",
    "# Convert the 'top_ads' column to lists of strings\n",
    "fs_gen_text_df['gen_plain_list'] = fs_gen_text_df['gen_plain_list'].apply(eval)\n",
    "\n",
    "fs_ordered_text = [text for sublist in fs_gen_text_df['gen_plain_list'] for text in sublist]\n",
    "\n",
    "print(len(fs_ordered_embeddings), len(fs_party_labels), len(fs_ordered_text))\n"
   ]
  },
  {
   "cell_type": "markdown",
   "metadata": {
    "id": "lwsgyyHtUO68"
   },
   "source": [
    "**[4] Zero Shot**"
   ]
  },
  {
   "cell_type": "code",
   "execution_count": 93,
   "metadata": {
    "colab": {
     "base_uri": "https://localhost:8080/"
    },
    "executionInfo": {
     "elapsed": 496,
     "status": "ok",
     "timestamp": 1732096924287,
     "user": {
      "displayName": "Alessandro Mencarelli",
      "userId": "05351860346435535412"
     },
     "user_tz": -60
    },
    "id": "Y9yxnBZfqJXZ",
    "outputId": "e80053db-8aff-497d-f064-70e55791849f"
   },
   "outputs": [
    {
     "name": "stdout",
     "output_type": "stream",
     "text": [
      "777 777 777\n"
     ]
    }
   ],
   "source": [
    "# Load the CSV file\n",
    "zs_gen_text_embeddings_df = pd.read_csv('zero_shot_gen_embeddings.csv')\n",
    "\n",
    "ads_per_party = 111\n",
    "\n",
    "# Convert the 'gen_text_embeddings' column back to lists of NumPy arrays\n",
    "zs_gen_text_embeddings_df['gen_text_embeddings'] = zs_gen_text_embeddings_df['gen_text_embeddings'].apply(\n",
    "    lambda x: [np.array(list(map(float, embedding.split(',')))) for embedding in x.split('|')]\n",
    ")\n",
    "\n",
    "# Add the 'party' column from the main_parties list\n",
    "zs_gen_text_embeddings_df['party'] = main_parties\n",
    "\n",
    "# Reorder columns to place 'party' first\n",
    "zs_gen_text_embeddings_df = zs_gen_text_embeddings_df[['party', 'gen_text_embeddings']]\n",
    "\n",
    "# # Get ordered embeddings by party\n",
    "zs_ordered_embeddings = np.vstack([np.vstack(zs_gen_text_embeddings_df[zs_gen_text_embeddings_df['party'] == party]['gen_text_embeddings'].to_numpy())\n",
    "                                   for party in main_parties])\n",
    "\n",
    "# Generate labels for each party\n",
    "zs_party_labels = np.concatenate([np.full(ads_per_party, i)\n",
    "                               for i, party in enumerate(main_parties)])\n",
    "\n",
    "# Import the CSV file\n",
    "zero_shot_gen_text_df = pd.read_csv('zero_shot_generated_ads.csv')\n",
    "# Convert the 'top_ads' column to lists of strings\n",
    "zero_shot_gen_text_df['gen_plain_list'] = zero_shot_gen_text_df['gen_plain_list'].apply(eval)\n",
    "\n",
    "zs_ordered_text = [text for sublist in zero_shot_gen_text_df['gen_plain_list'] for text in sublist]\n",
    "\n",
    "print(len(zs_ordered_embeddings), len(zs_party_labels), len(zs_ordered_text))\n"
   ]
  },
  {
   "cell_type": "markdown",
   "metadata": {
    "id": "UtfMcx43LN_a"
   },
   "source": [
    "**Real Ads Vs Few Shots**"
   ]
  },
  {
   "cell_type": "markdown",
   "metadata": {
    "id": "C_1rNzmvt7RI"
   },
   "source": [
    "Human Valutation Excel Creation"
   ]
  },
  {
   "cell_type": "code",
   "execution_count": 94,
   "metadata": {
    "executionInfo": {
     "elapsed": 15,
     "status": "ok",
     "timestamp": 1732096924287,
     "user": {
      "displayName": "Alessandro Mencarelli",
      "userId": "05351860346435535412"
     },
     "user_tz": -60
    },
    "id": "9Zvpcc2Qt0PN"
   },
   "outputs": [],
   "source": [
    "# np.random.seed(52696)  # Ensuring reproducibility\n",
    "\n",
    "# # Randomly select 25 texts from each real and generated ads\n",
    "# selected_real_indices = np.random.choice(range(len(ra_ordered_text)), 25, replace=False)\n",
    "# selected_generated_indices = np.random.choice(range(len(fs_ordered_text)), 25, replace=False)\n",
    "\n",
    "# # Extract data for the real ads\n",
    "# real_texts = [ra_ordered_text[idx] for idx in selected_real_indices]\n",
    "# real_party_labels = [main_parties[ra_party_labels[idx]] for idx in selected_real_indices]\n",
    "# real_booleans = [0] * 25  # Boolean set to 0 for real ads\n",
    "\n",
    "# # Extract data for the generated ads\n",
    "# generated_texts = [fs_ordered_text[idx] for idx in selected_generated_indices]\n",
    "# generated_party_labels = [main_parties[fs_party_labels[idx]] for idx in selected_generated_indices]\n",
    "# generated_booleans = [1] * 25  # Boolean set to 1 for generated ads\n",
    "\n",
    "# display(pd.Series(real_party_labels).value_counts())\n",
    "# display(pd.Series(generated_party_labels).value_counts())\n",
    "\n",
    "# # Combine real and generated ads into a single DataFrame\n",
    "# df = pd.DataFrame({\n",
    "#     \"Ad Text\": real_texts + generated_texts,\n",
    "#     \"Party\": real_party_labels + generated_party_labels,\n",
    "#     \"Generated (1) / Real (0)\": real_booleans + generated_booleans\n",
    "# })\n",
    "\n",
    "# # Save to Excel file\n",
    "# output_path = \"LLM_HumanClassification.xlsx\"\n",
    "# df.to_excel(output_path, index=False)\n",
    "\n",
    "# np.random.seed(42)  # Ensuring reproducibility"
   ]
  },
  {
   "cell_type": "code",
   "execution_count": 95,
   "metadata": {
    "colab": {
     "base_uri": "https://localhost:8080/"
    },
    "executionInfo": {
     "elapsed": 13,
     "status": "ok",
     "timestamp": 1732096924287,
     "user": {
      "displayName": "Alessandro Mencarelli",
      "userId": "05351860346435535412"
     },
     "user_tz": -60
    },
    "id": "a-md99muLLJ_",
    "outputId": "21ef5b45-1b66-4aed-86e6-6f24091bc627"
   },
   "outputs": [
    {
     "name": "stdout",
     "output_type": "stream",
     "text": [
      "['3POLO']: Ads:54 - R:54, G:100\n",
      "['AVD']: Ads:65 - R:65, G:100\n",
      "['FDI']: Ads:47 - R:47, G:100\n",
      "['FI']: Ads:100 - R:144, G:100\n",
      "['LEGA']: Ads:71 - R:71, G:100\n",
      "['M5S']: Ads:33 - R:33, G:100\n",
      "['PD']: Ads:100 - R:221, G:100\n",
      "Total ads: 940\n",
      "Number of real ads: 470\n",
      "Number of generated ads: 470\n"
     ]
    }
   ],
   "source": [
    "# Initialize lists to collect data\n",
    "vs_rafs_embeddings = []\n",
    "vs_rafs_class_labels = []  # 0 for real, 1 for generated\n",
    "vs_rafs_party_labels = []  # Party index\n",
    "vs_rafs_texts = []\n",
    "\n",
    "# Ensure reproducibility\n",
    "np.random.seed(42)\n",
    "\n",
    "# Iterate over each party\n",
    "for i, party in enumerate(main_parties):\n",
    "    # Real ads for the party\n",
    "    party_real_indices = np.where(ra_party_labels == i)[0]\n",
    "    num_real_ads = len(party_real_indices)\n",
    "\n",
    "    # Generated ads for the party\n",
    "    party_generated_indices = np.where(fs_party_labels == i)[0]\n",
    "    num_generated_ads = len(party_generated_indices)\n",
    "\n",
    "    # Determine the minimum number of ads between real and generated\n",
    "    num_ads_to_use = min(num_real_ads, num_generated_ads)\n",
    "\n",
    "    # print(party, num_real_ads, num_gen_ads, num_ads_to_use)\n",
    "    print(f\"{party}: Ads:{num_ads_to_use} - R:{num_real_ads}, G:{num_generated_ads}\")\n",
    "\n",
    "    # Randomly select ads\n",
    "    selected_real_indices = np.random.choice(party_real_indices, num_ads_to_use, replace=False)\n",
    "    selected_generated_indices = np.random.choice(party_generated_indices, num_ads_to_use, replace=False)\n",
    "\n",
    "    # Get embeddings and texts for real ads\n",
    "    ra_embeddings_party = ra_ordered_embeddings[selected_real_indices]\n",
    "    ra_texts_party = [ra_ordered_text[idx] for idx in selected_real_indices]\n",
    "\n",
    "    # Get embeddings and texts for generated ads\n",
    "    fs_embeddings_party = fs_ordered_embeddings[selected_generated_indices]\n",
    "    fs_texts_party = [fs_ordered_text[idx] for idx in selected_generated_indices]\n",
    "\n",
    "    # Append real ads\n",
    "    vs_rafs_embeddings.extend(ra_embeddings_party)\n",
    "    vs_rafs_class_labels.extend([0]*num_ads_to_use)\n",
    "    vs_rafs_party_labels.extend([i]*num_ads_to_use)\n",
    "    vs_rafs_texts.extend(ra_texts_party)\n",
    "\n",
    "    # Append generated ads\n",
    "    vs_rafs_embeddings.extend(fs_embeddings_party)\n",
    "    vs_rafs_class_labels.extend([1]*num_ads_to_use)\n",
    "    vs_rafs_party_labels.extend([i]*num_ads_to_use)\n",
    "    vs_rafs_texts.extend(fs_texts_party)\n",
    "\n",
    "# Convert lists to numpy arrays\n",
    "vs_rafs_embeddings = np.array(vs_rafs_embeddings)\n",
    "vs_rafs_class_labels = np.array(vs_rafs_class_labels)\n",
    "vs_rafs_party_labels = np.array(vs_rafs_party_labels)\n",
    "vs_rafs_texts = np.array(vs_rafs_texts)\n",
    "\n",
    "print(f\"Total ads: {len(vs_rafs_embeddings)}\")\n",
    "print(f\"Number of real ads: {np.sum(vs_rafs_class_labels == 0)}\")\n",
    "print(f\"Number of generated ads: {np.sum(vs_rafs_class_labels == 1)}\")\n"
   ]
  },
  {
   "cell_type": "markdown",
   "metadata": {
    "id": "dF03UK73WVgw"
   },
   "source": [
    "**Real Ads Vs Zero Shot**"
   ]
  },
  {
   "cell_type": "code",
   "execution_count": 96,
   "metadata": {
    "colab": {
     "base_uri": "https://localhost:8080/"
    },
    "executionInfo": {
     "elapsed": 11,
     "status": "ok",
     "timestamp": 1732096924287,
     "user": {
      "displayName": "Alessandro Mencarelli",
      "userId": "05351860346435535412"
     },
     "user_tz": -60
    },
    "id": "yKGFHG6NWVgx",
    "outputId": "d9e70ef8-43b2-4df0-bc6a-d8e60280de3a"
   },
   "outputs": [
    {
     "name": "stdout",
     "output_type": "stream",
     "text": [
      "['3POLO']: Ads:54 - R:54, G:111\n",
      "['AVD']: Ads:65 - R:65, G:111\n",
      "['FDI']: Ads:47 - R:47, G:111\n",
      "['FI']: Ads:111 - R:144, G:111\n",
      "['LEGA']: Ads:71 - R:71, G:111\n",
      "['M5S']: Ads:33 - R:33, G:111\n",
      "['PD']: Ads:111 - R:221, G:111\n",
      "Total ads: 984\n",
      "Number of real ads: 492\n",
      "Number of generated ads: 492\n"
     ]
    }
   ],
   "source": [
    "# Initialize lists to collect data\n",
    "vs_razs_embeddings = []\n",
    "vs_razs_class_labels = []  # 0 for real, 1 for generated\n",
    "vs_razs_party_labels = []  # Party index\n",
    "vs_razs_texts = []\n",
    "\n",
    "# Ensure reproducibility\n",
    "np.random.seed(42)\n",
    "\n",
    "# Iterate over each party\n",
    "for i, party in enumerate(main_parties):\n",
    "    # Real ads for the party\n",
    "    party_real_indices = np.where(ra_party_labels == i)[0]\n",
    "    num_real_ads = len(party_real_indices)\n",
    "\n",
    "    # Generated ads for the party\n",
    "    party_generated_indices = np.where(zs_party_labels == i)[0]\n",
    "    num_generated_ads = len(party_generated_indices)\n",
    "\n",
    "    # Determine the minimum number of ads between real and generated\n",
    "    num_ads_to_use = min(num_real_ads, num_generated_ads)\n",
    "\n",
    "    # print(party, num_real_ads, num_gen_ads, num_ads_to_use)\n",
    "    print(f\"{party}: Ads:{num_ads_to_use} - R:{num_real_ads}, G:{num_generated_ads}\")\n",
    "\n",
    "    # Randomly select ads\n",
    "    selected_real_indices = np.random.choice(party_real_indices, num_ads_to_use, replace=False)\n",
    "    selected_generated_indices = np.random.choice(party_generated_indices, num_ads_to_use, replace=False)\n",
    "\n",
    "    # Get embeddings and texts for real ads\n",
    "    ra_embeddings_party = ra_ordered_embeddings[selected_real_indices]\n",
    "    ra_texts_party = [ra_ordered_text[idx] for idx in selected_real_indices]\n",
    "\n",
    "    # Get embeddings and texts for generated ads\n",
    "    zs_embeddings_party = zs_ordered_embeddings[selected_generated_indices]\n",
    "    zs_texts_party = [zs_ordered_text[idx] for idx in selected_generated_indices]\n",
    "\n",
    "    # Append real ads\n",
    "    vs_razs_embeddings.extend(ra_embeddings_party)\n",
    "    vs_razs_class_labels.extend([0]*num_ads_to_use)\n",
    "    vs_razs_party_labels.extend([i]*num_ads_to_use)\n",
    "    vs_razs_texts.extend(ra_texts_party)\n",
    "\n",
    "    # Append generated ads\n",
    "    vs_razs_embeddings.extend(zs_embeddings_party)\n",
    "    vs_razs_class_labels.extend([1]*num_ads_to_use)\n",
    "    vs_razs_party_labels.extend([i]*num_ads_to_use)\n",
    "    vs_razs_texts.extend(zs_texts_party)\n",
    "\n",
    "# Convert lists to numpy arrays\n",
    "vs_razs_embeddings = np.array(vs_razs_embeddings)\n",
    "vs_razs_class_labels = np.array(vs_razs_class_labels)\n",
    "vs_razs_party_labels = np.array(vs_razs_party_labels)\n",
    "vs_razs_texts = np.array(vs_razs_texts)\n",
    "\n",
    "print(f\"Total ads: {len(vs_razs_embeddings)}\")\n",
    "print(f\"Number of real ads: {np.sum(vs_razs_class_labels == 0)}\")\n",
    "print(f\"Number of generated ads: {np.sum(vs_razs_class_labels == 1)}\")\n"
   ]
  },
  {
   "cell_type": "markdown",
   "metadata": {
    "id": "lqujywgmOfQZ"
   },
   "source": [
    "**Real Ads Vs Gen Ads**"
   ]
  },
  {
   "cell_type": "code",
   "execution_count": 97,
   "metadata": {
    "colab": {
     "base_uri": "https://localhost:8080/"
    },
    "executionInfo": {
     "elapsed": 8,
     "status": "ok",
     "timestamp": 1732096924287,
     "user": {
      "displayName": "Alessandro Mencarelli",
      "userId": "05351860346435535412"
     },
     "user_tz": -60
    },
    "id": "UwSL2_kDOfQa",
    "outputId": "aadf20aa-c650-4404-d0fe-dc2d3006625a"
   },
   "outputs": [
    {
     "name": "stdout",
     "output_type": "stream",
     "text": [
      "Total number of real ads available: 635\n",
      "Total number of generated ads available: 1477\n",
      "\n",
      "Total ads in the dataset: 1270\n",
      "Number of real ads: 635\n",
      "Number of generated ads: 635\n"
     ]
    }
   ],
   "source": [
    "# Initialize lists to collect data\n",
    "vs_raga_embeddings = []\n",
    "vs_raga_class_labels = []  # 0 for real, 1 for generated\n",
    "vs_raga_party_labels = []  # Party index\n",
    "vs_raga_texts = []\n",
    "\n",
    "# Ensure reproducibility\n",
    "np.random.seed(42)\n",
    "\n",
    "# Step 1: Add all real ads to the dataset\n",
    "num_real_ads = len(ra_ordered_embeddings)\n",
    "\n",
    "# Extend the lists with real ads data\n",
    "vs_raga_embeddings.extend(ra_ordered_embeddings)\n",
    "vs_raga_class_labels.extend([0]*num_real_ads)\n",
    "vs_raga_party_labels.extend(ra_party_labels)\n",
    "vs_raga_texts.extend(ra_ordered_text)\n",
    "\n",
    "print(f\"Total number of real ads available: {num_real_ads}\")\n",
    "\n",
    "# Step 2: Combine generated ads from both sets\n",
    "# Combine embeddings\n",
    "generated_embeddings = np.concatenate((fs_ordered_embeddings, zs_ordered_embeddings))\n",
    "# Combine party labels\n",
    "generated_party_labels = np.concatenate((fs_party_labels, zs_party_labels))\n",
    "# Combine texts\n",
    "generated_texts = np.concatenate((fs_ordered_text, zs_ordered_text))\n",
    "\n",
    "# Total number of generated ads\n",
    "total_generated_ads = len(generated_embeddings)\n",
    "print(f\"Total number of generated ads available: {total_generated_ads}\")\n",
    "\n",
    "# Step 3: Randomly select 963 generated ads\n",
    "num_generated_ads_to_select = num_real_ads  # 963 ads\n",
    "selected_generated_indices = np.random.choice(total_generated_ads, num_generated_ads_to_select, replace=False)\n",
    "\n",
    "# Get the selected generated ads data\n",
    "selected_generated_embeddings = generated_embeddings[selected_generated_indices]\n",
    "selected_generated_party_labels = generated_party_labels[selected_generated_indices]\n",
    "selected_generated_texts = generated_texts[selected_generated_indices]\n",
    "\n",
    "# Extend the lists with generated ads data\n",
    "vs_raga_embeddings.extend(selected_generated_embeddings)\n",
    "vs_raga_class_labels.extend([1]*num_generated_ads_to_select)\n",
    "vs_raga_party_labels.extend(selected_generated_party_labels)\n",
    "vs_raga_texts.extend(selected_generated_texts)\n",
    "\n",
    "# Convert lists to numpy arrays\n",
    "vs_raga_embeddings = np.array(vs_raga_embeddings)\n",
    "vs_raga_class_labels = np.array(vs_raga_class_labels)\n",
    "vs_raga_party_labels = np.array(vs_raga_party_labels)\n",
    "vs_raga_texts = np.array(vs_raga_texts)\n",
    "\n",
    "# Print summary\n",
    "total_ads = len(vs_raga_embeddings)\n",
    "num_real_ads_final = np.sum(vs_raga_class_labels == 0)\n",
    "num_generated_ads_final = np.sum(vs_raga_class_labels == 1)\n",
    "\n",
    "print(f\"\\nTotal ads in the dataset: {total_ads}\")\n",
    "print(f\"Number of real ads: {num_real_ads_final}\")\n",
    "print(f\"Number of generated ads: {num_generated_ads_final}\")\n"
   ]
  },
  {
   "cell_type": "markdown",
   "metadata": {
    "id": "2TXgnuiKnXSA"
   },
   "source": [
    "#Models Fitting"
   ]
  },
  {
   "cell_type": "code",
   "execution_count": 98,
   "metadata": {
    "colab": {
     "base_uri": "https://localhost:8080/"
    },
    "executionInfo": {
     "elapsed": 6,
     "status": "ok",
     "timestamp": 1732096924287,
     "user": {
      "displayName": "Alessandro Mencarelli",
      "userId": "05351860346435535412"
     },
     "user_tz": -60
    },
    "id": "qrGw2JP1iGMb",
    "outputId": "7833a78e-0a3a-4cbf-e23f-f9bf1a17ae71"
   },
   "outputs": [
    {
     "name": "stdout",
     "output_type": "stream",
     "text": [
      "real-vs-gen 1270 1270 1270 1270\n"
     ]
    }
   ],
   "source": [
    "match ads:\n",
    "    case 'real-vs-fs':\n",
    "        vs_embeddings = vs_rafs_embeddings\n",
    "        vs_class_labels = vs_rafs_class_labels\n",
    "        vs_party_labels = vs_rafs_party_labels\n",
    "        vs_texts = vs_rafs_texts\n",
    "    case 'real-vs-zs':\n",
    "        vs_embeddings = vs_razs_embeddings\n",
    "        vs_class_labels = vs_razs_class_labels\n",
    "        vs_party_labels = vs_razs_party_labels\n",
    "        vs_texts = vs_razs_texts\n",
    "    case 'real-vs-gen':\n",
    "        vs_embeddings = vs_raga_embeddings\n",
    "        vs_class_labels = vs_raga_class_labels\n",
    "        vs_party_labels = vs_raga_party_labels\n",
    "        vs_texts = vs_raga_texts\n",
    "\n",
    "print(ads, len(vs_embeddings), len(vs_class_labels), len(vs_party_labels), len(vs_texts))\n",
    "\n",
    "class_names=['Real', 'Generated']\n",
    "# Create an array of indices\n",
    "indices = np.arange(len(vs_embeddings))\n",
    "\n",
    "# Split data into training and test sets, including indices\n",
    "X_train, X_test, y_train, y_test, idx_train, idx_test = train_test_split(\n",
    "    vs_embeddings, vs_class_labels, indices,\n",
    "    test_size=0.2, random_state=42, stratify=vs_class_labels\n",
    ")"
   ]
  },
  {
   "cell_type": "markdown",
   "metadata": {
    "id": "Ks9NR7dZnsnC"
   },
   "source": [
    "## RandomForestClassifier"
   ]
  },
  {
   "cell_type": "code",
   "execution_count": 99,
   "metadata": {
    "executionInfo": {
     "elapsed": 4,
     "status": "ok",
     "timestamp": 1732096924287,
     "user": {
      "displayName": "Alessandro Mencarelli",
      "userId": "05351860346435535412"
     },
     "user_tz": -60
    },
    "id": "14rfJ3C50zgN"
   },
   "outputs": [],
   "source": [
    "if hypertune:\n",
    "    # Define the parameter grid for Random Forest\n",
    "    rfc_param_grid = {\n",
    "        'n_estimators': [100, 200, 300],      # Number of trees\n",
    "        'max_depth': [None, 10, 20, 30]       # Maximum depth of the tree\n",
    "    }\n",
    "\n",
    "    # Define StratifiedKFold with shuffling\n",
    "    cv_strategy = StratifiedKFold(n_splits=5, shuffle=True, random_state=42)\n",
    "\n",
    "    # Initialize Grid Search with cross-validation\n",
    "    rfc_grid_search = GridSearchCV(\n",
    "        estimator=RandomForestClassifier(random_state=42),\n",
    "        param_grid=rfc_param_grid,\n",
    "        cv=cv_strategy,\n",
    "        n_jobs=-1,\n",
    "        verbose=2,\n",
    "        scoring='f1_weighted'  # Optimize for weighted F1 score\n",
    "    )\n",
    "\n",
    "    print(\"Starting Grid Search for Random Forest Classifier...\")\n",
    "    rfc_grid_search.fit(X_train, y_train)\n",
    "\n",
    "    # Best parameters and estimator\n",
    "    print(\"Best parameters found for Random Forest Classifier: \", rfc_grid_search.best_params_)\n",
    "\n",
    "    best_rfc = rfc_grid_search.best_estimator_\n",
    "    best_rfc.fit(X_train, y_train)\n",
    "\n",
    "    # Save best Random Forest model and parameters\n",
    "    joblib.dump(best_rfc, f'models/rfc_model_{ads}.pkl')\n",
    "    with open(f'models/params/rfc_params_{ads}.json', 'w') as f:\n",
    "        json.dump(rfc_grid_search.best_params_, f)\n"
   ]
  },
  {
   "cell_type": "code",
   "execution_count": 100,
   "metadata": {
    "colab": {
     "base_uri": "https://localhost:8080/"
    },
    "executionInfo": {
     "elapsed": 1035,
     "status": "ok",
     "timestamp": 1732096925319,
     "user": {
      "displayName": "Alessandro Mencarelli",
      "userId": "05351860346435535412"
     },
     "user_tz": -60
    },
    "id": "44UD-Ju2AkNl",
    "outputId": "58843420-9cb8-489f-8c51-29f60bbc01b0"
   },
   "outputs": [
    {
     "name": "stdout",
     "output_type": "stream",
     "text": [
      "Classification Report for Random Forest Classifier:\n",
      "               precision    recall  f1-score   support\n",
      "\n",
      "        Real       0.88      0.99      0.93       127\n",
      "   Generated       0.99      0.87      0.92       127\n",
      "\n",
      "    accuracy                           0.93       254\n",
      "   macro avg       0.94      0.93      0.93       254\n",
      "weighted avg       0.94      0.93      0.93       254\n",
      "\n",
      "Confusion Matrix for Random Forest Classifier:\n",
      " [[126   1]\n",
      " [ 17 110]]\n"
     ]
    }
   ],
   "source": [
    "rfc_model = joblib.load(f'models/rfc_model_{ads}.pkl')\n",
    "\n",
    "\n",
    "# Predict on test set using the best Random Forest model\n",
    "y_pred_rfc = rfc_model.predict(X_test)\n",
    "\n",
    "# Generate classification report for Random Forest\n",
    "report_rfc = classification_report(y_test, y_pred_rfc, target_names=class_names)\n",
    "print(\"Classification Report for Random Forest Classifier:\\n\", report_rfc)\n",
    "\n",
    "# Confusion matrix for Random Forest\n",
    "cm_rfc = confusion_matrix(y_test, y_pred_rfc)\n",
    "print(\"Confusion Matrix for Random Forest Classifier:\\n\", cm_rfc)"
   ]
  },
  {
   "cell_type": "markdown",
   "metadata": {
    "id": "b4hZd-wxnwKm"
   },
   "source": [
    "## XGBClassifier"
   ]
  },
  {
   "cell_type": "code",
   "execution_count": 101,
   "metadata": {
    "executionInfo": {
     "elapsed": 5,
     "status": "ok",
     "timestamp": 1732096925320,
     "user": {
      "displayName": "Alessandro Mencarelli",
      "userId": "05351860346435535412"
     },
     "user_tz": -60
    },
    "id": "FLM-MQc6JNHB"
   },
   "outputs": [],
   "source": [
    "if hypertune:\n",
    "    # Define the parameter grid for XGBoost\n",
    "    xgb_param_grid = {\n",
    "        'n_estimators': [100, 200, 300],    # Number of trees\n",
    "        'learning_rate': [0.01, 0.1, 0.2]   # Learning rate\n",
    "    }\n",
    "\n",
    "    # Define StratifiedKFold with shuffling\n",
    "    cv_strategy = StratifiedKFold(n_splits=5, shuffle=True, random_state=42)\n",
    "\n",
    "    # Initialize Grid Search with cross-validation\n",
    "    xgb_grid_search = GridSearchCV(\n",
    "        estimator=XGBClassifier(random_state=42, eval_metric='mlogloss'),\n",
    "        param_grid=xgb_param_grid,\n",
    "        cv=cv_strategy,\n",
    "        n_jobs=-1,\n",
    "        verbose=2,\n",
    "        scoring='f1_weighted'  # Optimize for weighted F1 score\n",
    "    )\n",
    "\n",
    "    print(\"Starting Grid Search for XGBoost Classifier...\")\n",
    "    xgb_grid_search.fit(X_train, y_train)\n",
    "\n",
    "    # Best parameters and estimator\n",
    "    print(\"Best parameters found for XGBoost Classifier: \", xgb_grid_search.best_params_)\n",
    "\n",
    "    best_xgb = xgb_grid_search.best_estimator_\n",
    "    best_xgb.fit(X_train, y_train)\n",
    "\n",
    "    # Save best XGBoost model and parameters\n",
    "    joblib.dump(best_xgb, f'models/xgb_model_{ads}.pkl')\n",
    "    with open(f'models/params/xgb_params_{ads}.json', 'w') as f:\n",
    "        json.dump(xgb_grid_search.best_params_, f)\n"
   ]
  },
  {
   "cell_type": "code",
   "execution_count": 102,
   "metadata": {
    "colab": {
     "base_uri": "https://localhost:8080/"
    },
    "executionInfo": {
     "elapsed": 490,
     "status": "ok",
     "timestamp": 1732096925806,
     "user": {
      "displayName": "Alessandro Mencarelli",
      "userId": "05351860346435535412"
     },
     "user_tz": -60
    },
    "id": "_nLgGNb71CHI",
    "outputId": "a2a59e51-e5a3-470a-ffa1-82a79fd0fa4e"
   },
   "outputs": [
    {
     "name": "stdout",
     "output_type": "stream",
     "text": [
      "Classification Report for XGBoost Classifier:\n",
      "               precision    recall  f1-score   support\n",
      "\n",
      "        Real       0.95      0.98      0.97       127\n",
      "   Generated       0.98      0.94      0.96       127\n",
      "\n",
      "    accuracy                           0.96       254\n",
      "   macro avg       0.97      0.96      0.96       254\n",
      "weighted avg       0.97      0.96      0.96       254\n",
      "\n",
      "Confusion Matrix for XGBoost Classifier:\n",
      " [[125   2]\n",
      " [  7 120]]\n"
     ]
    }
   ],
   "source": [
    "xgb_model = joblib.load(f'models/xgb_model_{ads}.pkl')\n",
    "\n",
    "# # Predict on test set using the best XGBoost model\n",
    "y_pred_xgb = xgb_model.predict(X_test)\n",
    "\n",
    "# Generate classification report for XGBoost\n",
    "report_xgb = classification_report(y_test, y_pred_xgb, target_names=class_names)\n",
    "print(\"Classification Report for XGBoost Classifier:\\n\", report_xgb)\n",
    "\n",
    "# Confusion matrix for XGBoost\n",
    "cm_xgb = confusion_matrix(y_test, y_pred_xgb)\n",
    "print(\"Confusion Matrix for XGBoost Classifier:\\n\", cm_xgb)"
   ]
  },
  {
   "cell_type": "markdown",
   "metadata": {
    "id": "T5MD27pMMuox"
   },
   "source": [
    "# Result and Testing"
   ]
  },
  {
   "cell_type": "markdown",
   "metadata": {
    "id": "GfNOOLEI4WTM"
   },
   "source": [
    "### Party-wise Performance\n"
   ]
  },
  {
   "cell_type": "code",
   "execution_count": 103,
   "metadata": {
    "colab": {
     "base_uri": "https://localhost:8080/",
     "height": 300
    },
    "executionInfo": {
     "elapsed": 6,
     "status": "ok",
     "timestamp": 1732096925806,
     "user": {
      "displayName": "Alessandro Mencarelli",
      "userId": "05351860346435535412"
     },
     "user_tz": -60
    },
    "id": "DFt7YitG4Rz8",
    "outputId": "750d7aa1-f4ae-4429-af0b-8c628d7979f8"
   },
   "outputs": [
    {
     "data": {
      "application/vnd.google.colaboratory.intrinsic+json": {
       "summary": "{\n  \"name\": \"metrics_df\",\n  \"rows\": 7,\n  \"fields\": [\n    {\n      \"column\": \"Party\",\n      \"properties\": {\n        \"dtype\": \"string\",\n        \"num_unique_values\": 7,\n        \"samples\": [\n          \"['3POLO']\",\n          \"['AVD']\",\n          \"['M5S']\"\n        ],\n        \"semantic_type\": \"\",\n        \"description\": \"\"\n      }\n    },\n    {\n      \"column\": \"RFC Accuracy\",\n      \"properties\": {\n        \"dtype\": \"number\",\n        \"std\": 0.07693379961895501,\n        \"min\": 0.8,\n        \"max\": 0.978,\n        \"num_unique_values\": 7,\n        \"samples\": [\n          0.964,\n          0.957,\n          0.958\n        ],\n        \"semantic_type\": \"\",\n        \"description\": \"\"\n      }\n    },\n    {\n      \"column\": \"RFC F1-score\",\n      \"properties\": {\n        \"dtype\": \"number\",\n        \"std\": 0.061337473980314146,\n        \"min\": 0.833,\n        \"max\": 0.974,\n        \"num_unique_values\": 7,\n        \"samples\": [\n          0.963,\n          0.947,\n          0.966\n        ],\n        \"semantic_type\": \"\",\n        \"description\": \"\"\n      }\n    },\n    {\n      \"column\": \"XGB Accuracy\",\n      \"properties\": {\n        \"dtype\": \"number\",\n        \"std\": 0.045257990612550564,\n        \"min\": 0.867,\n        \"max\": 1.0,\n        \"num_unique_values\": 6,\n        \"samples\": [\n          1.0,\n          0.957,\n          0.971\n        ],\n        \"semantic_type\": \"\",\n        \"description\": \"\"\n      }\n    },\n    {\n      \"column\": \"XGB F1-score\",\n      \"properties\": {\n        \"dtype\": \"number\",\n        \"std\": 0.03286262894158623,\n        \"min\": 0.905,\n        \"max\": 1.0,\n        \"num_unique_values\": 6,\n        \"samples\": [\n          1.0,\n          0.947,\n          0.96\n        ],\n        \"semantic_type\": \"\",\n        \"description\": \"\"\n      }\n    }\n  ]\n}",
       "type": "dataframe",
       "variable_name": "metrics_df"
      },
      "text/html": [
       "\n",
       "  <div id=\"df-73d06e86-c657-4c2f-8989-f99bc5a05d57\" class=\"colab-df-container\">\n",
       "    <div>\n",
       "<style scoped>\n",
       "    .dataframe tbody tr th:only-of-type {\n",
       "        vertical-align: middle;\n",
       "    }\n",
       "\n",
       "    .dataframe tbody tr th {\n",
       "        vertical-align: top;\n",
       "    }\n",
       "\n",
       "    .dataframe thead th {\n",
       "        text-align: right;\n",
       "    }\n",
       "</style>\n",
       "<table border=\"1\" class=\"dataframe\">\n",
       "  <thead>\n",
       "    <tr style=\"text-align: right;\">\n",
       "      <th></th>\n",
       "      <th>RFC Accuracy</th>\n",
       "      <th>RFC F1-score</th>\n",
       "      <th>XGB Accuracy</th>\n",
       "      <th>XGB F1-score</th>\n",
       "    </tr>\n",
       "    <tr>\n",
       "      <th>Party</th>\n",
       "      <th></th>\n",
       "      <th></th>\n",
       "      <th></th>\n",
       "      <th></th>\n",
       "    </tr>\n",
       "  </thead>\n",
       "  <tbody>\n",
       "    <tr>\n",
       "      <th>['3POLO']</th>\n",
       "      <td>0.964</td>\n",
       "      <td>0.963</td>\n",
       "      <td>1.000</td>\n",
       "      <td>1.000</td>\n",
       "    </tr>\n",
       "    <tr>\n",
       "      <th>['AVD']</th>\n",
       "      <td>0.957</td>\n",
       "      <td>0.947</td>\n",
       "      <td>0.957</td>\n",
       "      <td>0.947</td>\n",
       "    </tr>\n",
       "    <tr>\n",
       "      <th>['FDI']</th>\n",
       "      <td>0.800</td>\n",
       "      <td>0.842</td>\n",
       "      <td>0.867</td>\n",
       "      <td>0.905</td>\n",
       "    </tr>\n",
       "    <tr>\n",
       "      <th>['FI']</th>\n",
       "      <td>0.978</td>\n",
       "      <td>0.974</td>\n",
       "      <td>0.978</td>\n",
       "      <td>0.974</td>\n",
       "    </tr>\n",
       "    <tr>\n",
       "      <th>['LEGA']</th>\n",
       "      <td>0.818</td>\n",
       "      <td>0.833</td>\n",
       "      <td>1.000</td>\n",
       "      <td>1.000</td>\n",
       "    </tr>\n",
       "    <tr>\n",
       "      <th>['M5S']</th>\n",
       "      <td>0.958</td>\n",
       "      <td>0.966</td>\n",
       "      <td>0.958</td>\n",
       "      <td>0.966</td>\n",
       "    </tr>\n",
       "    <tr>\n",
       "      <th>['PD']</th>\n",
       "      <td>0.971</td>\n",
       "      <td>0.960</td>\n",
       "      <td>0.971</td>\n",
       "      <td>0.960</td>\n",
       "    </tr>\n",
       "  </tbody>\n",
       "</table>\n",
       "</div>\n",
       "    <div class=\"colab-df-buttons\">\n",
       "\n",
       "  <div class=\"colab-df-container\">\n",
       "    <button class=\"colab-df-convert\" onclick=\"convertToInteractive('df-73d06e86-c657-4c2f-8989-f99bc5a05d57')\"\n",
       "            title=\"Convert this dataframe to an interactive table.\"\n",
       "            style=\"display:none;\">\n",
       "\n",
       "  <svg xmlns=\"http://www.w3.org/2000/svg\" height=\"24px\" viewBox=\"0 -960 960 960\">\n",
       "    <path d=\"M120-120v-720h720v720H120Zm60-500h600v-160H180v160Zm220 220h160v-160H400v160Zm0 220h160v-160H400v160ZM180-400h160v-160H180v160Zm440 0h160v-160H620v160ZM180-180h160v-160H180v160Zm440 0h160v-160H620v160Z\"/>\n",
       "  </svg>\n",
       "    </button>\n",
       "\n",
       "  <style>\n",
       "    .colab-df-container {\n",
       "      display:flex;\n",
       "      gap: 12px;\n",
       "    }\n",
       "\n",
       "    .colab-df-convert {\n",
       "      background-color: #E8F0FE;\n",
       "      border: none;\n",
       "      border-radius: 50%;\n",
       "      cursor: pointer;\n",
       "      display: none;\n",
       "      fill: #1967D2;\n",
       "      height: 32px;\n",
       "      padding: 0 0 0 0;\n",
       "      width: 32px;\n",
       "    }\n",
       "\n",
       "    .colab-df-convert:hover {\n",
       "      background-color: #E2EBFA;\n",
       "      box-shadow: 0px 1px 2px rgba(60, 64, 67, 0.3), 0px 1px 3px 1px rgba(60, 64, 67, 0.15);\n",
       "      fill: #174EA6;\n",
       "    }\n",
       "\n",
       "    .colab-df-buttons div {\n",
       "      margin-bottom: 4px;\n",
       "    }\n",
       "\n",
       "    [theme=dark] .colab-df-convert {\n",
       "      background-color: #3B4455;\n",
       "      fill: #D2E3FC;\n",
       "    }\n",
       "\n",
       "    [theme=dark] .colab-df-convert:hover {\n",
       "      background-color: #434B5C;\n",
       "      box-shadow: 0px 1px 3px 1px rgba(0, 0, 0, 0.15);\n",
       "      filter: drop-shadow(0px 1px 2px rgba(0, 0, 0, 0.3));\n",
       "      fill: #FFFFFF;\n",
       "    }\n",
       "  </style>\n",
       "\n",
       "    <script>\n",
       "      const buttonEl =\n",
       "        document.querySelector('#df-73d06e86-c657-4c2f-8989-f99bc5a05d57 button.colab-df-convert');\n",
       "      buttonEl.style.display =\n",
       "        google.colab.kernel.accessAllowed ? 'block' : 'none';\n",
       "\n",
       "      async function convertToInteractive(key) {\n",
       "        const element = document.querySelector('#df-73d06e86-c657-4c2f-8989-f99bc5a05d57');\n",
       "        const dataTable =\n",
       "          await google.colab.kernel.invokeFunction('convertToInteractive',\n",
       "                                                    [key], {});\n",
       "        if (!dataTable) return;\n",
       "\n",
       "        const docLinkHtml = 'Like what you see? Visit the ' +\n",
       "          '<a target=\"_blank\" href=https://colab.research.google.com/notebooks/data_table.ipynb>data table notebook</a>'\n",
       "          + ' to learn more about interactive tables.';\n",
       "        element.innerHTML = '';\n",
       "        dataTable['output_type'] = 'display_data';\n",
       "        await google.colab.output.renderOutput(dataTable, element);\n",
       "        const docLink = document.createElement('div');\n",
       "        docLink.innerHTML = docLinkHtml;\n",
       "        element.appendChild(docLink);\n",
       "      }\n",
       "    </script>\n",
       "  </div>\n",
       "\n",
       "\n",
       "<div id=\"df-1f640d1b-1228-4e79-9cb0-c7aaa712c0f4\">\n",
       "  <button class=\"colab-df-quickchart\" onclick=\"quickchart('df-1f640d1b-1228-4e79-9cb0-c7aaa712c0f4')\"\n",
       "            title=\"Suggest charts\"\n",
       "            style=\"display:none;\">\n",
       "\n",
       "<svg xmlns=\"http://www.w3.org/2000/svg\" height=\"24px\"viewBox=\"0 0 24 24\"\n",
       "     width=\"24px\">\n",
       "    <g>\n",
       "        <path d=\"M19 3H5c-1.1 0-2 .9-2 2v14c0 1.1.9 2 2 2h14c1.1 0 2-.9 2-2V5c0-1.1-.9-2-2-2zM9 17H7v-7h2v7zm4 0h-2V7h2v10zm4 0h-2v-4h2v4z\"/>\n",
       "    </g>\n",
       "</svg>\n",
       "  </button>\n",
       "\n",
       "<style>\n",
       "  .colab-df-quickchart {\n",
       "      --bg-color: #E8F0FE;\n",
       "      --fill-color: #1967D2;\n",
       "      --hover-bg-color: #E2EBFA;\n",
       "      --hover-fill-color: #174EA6;\n",
       "      --disabled-fill-color: #AAA;\n",
       "      --disabled-bg-color: #DDD;\n",
       "  }\n",
       "\n",
       "  [theme=dark] .colab-df-quickchart {\n",
       "      --bg-color: #3B4455;\n",
       "      --fill-color: #D2E3FC;\n",
       "      --hover-bg-color: #434B5C;\n",
       "      --hover-fill-color: #FFFFFF;\n",
       "      --disabled-bg-color: #3B4455;\n",
       "      --disabled-fill-color: #666;\n",
       "  }\n",
       "\n",
       "  .colab-df-quickchart {\n",
       "    background-color: var(--bg-color);\n",
       "    border: none;\n",
       "    border-radius: 50%;\n",
       "    cursor: pointer;\n",
       "    display: none;\n",
       "    fill: var(--fill-color);\n",
       "    height: 32px;\n",
       "    padding: 0;\n",
       "    width: 32px;\n",
       "  }\n",
       "\n",
       "  .colab-df-quickchart:hover {\n",
       "    background-color: var(--hover-bg-color);\n",
       "    box-shadow: 0 1px 2px rgba(60, 64, 67, 0.3), 0 1px 3px 1px rgba(60, 64, 67, 0.15);\n",
       "    fill: var(--button-hover-fill-color);\n",
       "  }\n",
       "\n",
       "  .colab-df-quickchart-complete:disabled,\n",
       "  .colab-df-quickchart-complete:disabled:hover {\n",
       "    background-color: var(--disabled-bg-color);\n",
       "    fill: var(--disabled-fill-color);\n",
       "    box-shadow: none;\n",
       "  }\n",
       "\n",
       "  .colab-df-spinner {\n",
       "    border: 2px solid var(--fill-color);\n",
       "    border-color: transparent;\n",
       "    border-bottom-color: var(--fill-color);\n",
       "    animation:\n",
       "      spin 1s steps(1) infinite;\n",
       "  }\n",
       "\n",
       "  @keyframes spin {\n",
       "    0% {\n",
       "      border-color: transparent;\n",
       "      border-bottom-color: var(--fill-color);\n",
       "      border-left-color: var(--fill-color);\n",
       "    }\n",
       "    20% {\n",
       "      border-color: transparent;\n",
       "      border-left-color: var(--fill-color);\n",
       "      border-top-color: var(--fill-color);\n",
       "    }\n",
       "    30% {\n",
       "      border-color: transparent;\n",
       "      border-left-color: var(--fill-color);\n",
       "      border-top-color: var(--fill-color);\n",
       "      border-right-color: var(--fill-color);\n",
       "    }\n",
       "    40% {\n",
       "      border-color: transparent;\n",
       "      border-right-color: var(--fill-color);\n",
       "      border-top-color: var(--fill-color);\n",
       "    }\n",
       "    60% {\n",
       "      border-color: transparent;\n",
       "      border-right-color: var(--fill-color);\n",
       "    }\n",
       "    80% {\n",
       "      border-color: transparent;\n",
       "      border-right-color: var(--fill-color);\n",
       "      border-bottom-color: var(--fill-color);\n",
       "    }\n",
       "    90% {\n",
       "      border-color: transparent;\n",
       "      border-bottom-color: var(--fill-color);\n",
       "    }\n",
       "  }\n",
       "</style>\n",
       "\n",
       "  <script>\n",
       "    async function quickchart(key) {\n",
       "      const quickchartButtonEl =\n",
       "        document.querySelector('#' + key + ' button');\n",
       "      quickchartButtonEl.disabled = true;  // To prevent multiple clicks.\n",
       "      quickchartButtonEl.classList.add('colab-df-spinner');\n",
       "      try {\n",
       "        const charts = await google.colab.kernel.invokeFunction(\n",
       "            'suggestCharts', [key], {});\n",
       "      } catch (error) {\n",
       "        console.error('Error during call to suggestCharts:', error);\n",
       "      }\n",
       "      quickchartButtonEl.classList.remove('colab-df-spinner');\n",
       "      quickchartButtonEl.classList.add('colab-df-quickchart-complete');\n",
       "    }\n",
       "    (() => {\n",
       "      let quickchartButtonEl =\n",
       "        document.querySelector('#df-1f640d1b-1228-4e79-9cb0-c7aaa712c0f4 button');\n",
       "      quickchartButtonEl.style.display =\n",
       "        google.colab.kernel.accessAllowed ? 'block' : 'none';\n",
       "    })();\n",
       "  </script>\n",
       "</div>\n",
       "\n",
       "  <div id=\"id_79cb7406-87a5-4da9-8e07-51e603e6bdf0\">\n",
       "    <style>\n",
       "      .colab-df-generate {\n",
       "        background-color: #E8F0FE;\n",
       "        border: none;\n",
       "        border-radius: 50%;\n",
       "        cursor: pointer;\n",
       "        display: none;\n",
       "        fill: #1967D2;\n",
       "        height: 32px;\n",
       "        padding: 0 0 0 0;\n",
       "        width: 32px;\n",
       "      }\n",
       "\n",
       "      .colab-df-generate:hover {\n",
       "        background-color: #E2EBFA;\n",
       "        box-shadow: 0px 1px 2px rgba(60, 64, 67, 0.3), 0px 1px 3px 1px rgba(60, 64, 67, 0.15);\n",
       "        fill: #174EA6;\n",
       "      }\n",
       "\n",
       "      [theme=dark] .colab-df-generate {\n",
       "        background-color: #3B4455;\n",
       "        fill: #D2E3FC;\n",
       "      }\n",
       "\n",
       "      [theme=dark] .colab-df-generate:hover {\n",
       "        background-color: #434B5C;\n",
       "        box-shadow: 0px 1px 3px 1px rgba(0, 0, 0, 0.15);\n",
       "        filter: drop-shadow(0px 1px 2px rgba(0, 0, 0, 0.3));\n",
       "        fill: #FFFFFF;\n",
       "      }\n",
       "    </style>\n",
       "    <button class=\"colab-df-generate\" onclick=\"generateWithVariable('metrics_df')\"\n",
       "            title=\"Generate code using this dataframe.\"\n",
       "            style=\"display:none;\">\n",
       "\n",
       "  <svg xmlns=\"http://www.w3.org/2000/svg\" height=\"24px\"viewBox=\"0 0 24 24\"\n",
       "       width=\"24px\">\n",
       "    <path d=\"M7,19H8.4L18.45,9,17,7.55,7,17.6ZM5,21V16.75L18.45,3.32a2,2,0,0,1,2.83,0l1.4,1.43a1.91,1.91,0,0,1,.58,1.4,1.91,1.91,0,0,1-.58,1.4L9.25,21ZM18.45,9,17,7.55Zm-12,3A5.31,5.31,0,0,0,4.9,8.1,5.31,5.31,0,0,0,1,6.5,5.31,5.31,0,0,0,4.9,4.9,5.31,5.31,0,0,0,6.5,1,5.31,5.31,0,0,0,8.1,4.9,5.31,5.31,0,0,0,12,6.5,5.46,5.46,0,0,0,6.5,12Z\"/>\n",
       "  </svg>\n",
       "    </button>\n",
       "    <script>\n",
       "      (() => {\n",
       "      const buttonEl =\n",
       "        document.querySelector('#id_79cb7406-87a5-4da9-8e07-51e603e6bdf0 button.colab-df-generate');\n",
       "      buttonEl.style.display =\n",
       "        google.colab.kernel.accessAllowed ? 'block' : 'none';\n",
       "\n",
       "      buttonEl.onclick = () => {\n",
       "        google.colab.notebook.generateWithVariable('metrics_df');\n",
       "      }\n",
       "      })();\n",
       "    </script>\n",
       "  </div>\n",
       "\n",
       "    </div>\n",
       "  </div>\n"
      ],
      "text/plain": [
       "           RFC Accuracy  RFC F1-score  XGB Accuracy  XGB F1-score\n",
       "Party                                                            \n",
       "['3POLO']         0.964         0.963         1.000         1.000\n",
       "['AVD']           0.957         0.947         0.957         0.947\n",
       "['FDI']           0.800         0.842         0.867         0.905\n",
       "['FI']            0.978         0.974         0.978         0.974\n",
       "['LEGA']          0.818         0.833         1.000         1.000\n",
       "['M5S']           0.958         0.966         0.958         0.966\n",
       "['PD']            0.971         0.960         0.971         0.960"
      ]
     },
     "metadata": {},
     "output_type": "display_data"
    }
   ],
   "source": [
    "# Create a DataFrame to hold predictions and true labels\n",
    "results_df = pd.DataFrame({\n",
    "    'party_label': vs_party_labels[idx_test],\n",
    "    'true_class': y_test,\n",
    "    'predicted_class_rfc': y_pred_rfc,\n",
    "    'predicted_class_xgb': y_pred_xgb\n",
    "})\n",
    "\n",
    "# Map party indices to party names\n",
    "party_name_mapping = dict(enumerate(main_parties))\n",
    "results_df['party_name'] = results_df['party_label'].map(party_name_mapping)\n",
    "\n",
    "# Group by party and compute accuracy and F1-score\n",
    "party_grouped = results_df.groupby('party_name')\n",
    "\n",
    "# Initialize a list to store metrics for each party\n",
    "metrics_list = []\n",
    "\n",
    "for party, group in party_grouped:\n",
    "    # Random Forest metrics\n",
    "    acc_rfc = accuracy_score(group['true_class'], group['predicted_class_rfc'])\n",
    "    f1_rfc = f1_score(group['true_class'], group['predicted_class_rfc'], average='binary')\n",
    "\n",
    "    # XGBoost metrics\n",
    "    acc_xgb = accuracy_score(group['true_class'], group['predicted_class_xgb'])\n",
    "    f1_xgb = f1_score(group['true_class'], group['predicted_class_xgb'], average='binary')\n",
    "\n",
    "    # Append the metrics to the list\n",
    "    metrics_list.append({\n",
    "        'Party': party,\n",
    "        'RFC Accuracy': acc_rfc,\n",
    "        'RFC F1-score': f1_rfc,\n",
    "        'XGB Accuracy': acc_xgb,\n",
    "        'XGB F1-score': f1_xgb\n",
    "    })\n",
    "\n",
    "# Create a DataFrame from the metrics list\n",
    "metrics_df = pd.DataFrame(metrics_list)\n",
    "\n",
    "metrics_df = metrics_df.round(3)\n",
    "# Set the 'Party' column as the index\n",
    "metrics_df.set_index('Party', inplace=True)\n",
    "\n",
    "# Display the DataFrame\n",
    "display(metrics_df)"
   ]
  },
  {
   "cell_type": "code",
   "execution_count": 104,
   "metadata": {
    "colab": {
     "base_uri": "https://localhost:8080/",
     "height": 545
    },
    "executionInfo": {
     "elapsed": 384,
     "status": "ok",
     "timestamp": 1732096926185,
     "user": {
      "displayName": "Alessandro Mencarelli",
      "userId": "05351860346435535412"
     },
     "user_tz": -60
    },
    "id": "iV_9Hex9Z3JM",
    "outputId": "6cccf105-d20b-476b-f8f5-4422b04d9d86"
   },
   "outputs": [
    {
     "data": {
      "image/png": "[encoded data removed]",
      "text/plain": [
       "<Figure size 1000x600 with 1 Axes>"
      ]
     },
     "metadata": {},
     "output_type": "display_data"
    }
   ],
   "source": [
    "# Combined Boxplot with Swarmplot\n",
    "plt.figure(figsize=(10, 6))\n",
    "sns.boxplot(data=metrics_df[['RFC F1-score', 'XGB F1-score']], palette=['skyblue', 'salmon'])\n",
    "sns.swarmplot(data=metrics_df[['RFC F1-score', 'XGB F1-score']], color='k', alpha=0.6)\n",
    "plt.title(f'{ads} | Boxplot with Data Points of F1-scores for RFC and XGB Classifiers')\n",
    "plt.ylabel('F1-score')\n",
    "plt.xticks([0, 1], ['Random Forest', 'XGBoost'])\n",
    "plt.ylim(0, 1.05)\n",
    "plt.show()\n"
   ]
  },
  {
   "cell_type": "code",
   "execution_count": 105,
   "metadata": {
    "colab": {
     "base_uri": "https://localhost:8080/",
     "height": 300
    },
    "executionInfo": {
     "elapsed": 29077,
     "status": "ok",
     "timestamp": 1732096955257,
     "user": {
      "displayName": "Alessandro Mencarelli",
      "userId": "05351860346435535412"
     },
     "user_tz": -60
    },
    "id": "tetVqcMTScAa",
    "outputId": "f5a27a3b-cd6c-4247-feb5-2e70de31e9ec"
   },
   "outputs": [
    {
     "data": {
      "application/vnd.google.colaboratory.intrinsic+json": {
       "summary": "{\n  \"name\": \"bootstrap_df\",\n  \"rows\": 7,\n  \"fields\": [\n    {\n      \"column\": \"Party\",\n      \"properties\": {\n        \"dtype\": \"string\",\n        \"num_unique_values\": 7,\n        \"samples\": [\n          \"['3POLO']\",\n          \"['AVD']\",\n          \"['M5S']\"\n        ],\n        \"semantic_type\": \"\",\n        \"description\": \"\"\n      }\n    },\n    {\n      \"column\": \"RFC Mean F1-score\",\n      \"properties\": {\n        \"dtype\": \"number\",\n        \"std\": 0.062477805583072386,\n        \"min\": 0.828,\n        \"max\": 0.973,\n        \"num_unique_values\": 7,\n        \"samples\": [\n          0.964,\n          0.949,\n          0.965\n        ],\n        \"semantic_type\": \"\",\n        \"description\": \"\"\n      }\n    },\n    {\n      \"column\": \"RFC Std F1-score\",\n      \"properties\": {\n        \"dtype\": \"number\",\n        \"std\": 0.017085220569391605,\n        \"min\": 0.026,\n        \"max\": 0.069,\n        \"num_unique_values\": 7,\n        \"samples\": [\n          0.038,\n          0.052,\n          0.035\n        ],\n        \"semantic_type\": \"\",\n        \"description\": \"\"\n      }\n    },\n    {\n      \"column\": \"XGB Mean F1-score\",\n      \"properties\": {\n        \"dtype\": \"number\",\n        \"std\": 0.032340450861185616,\n        \"min\": 0.906,\n        \"max\": 1.0,\n        \"num_unique_values\": 6,\n        \"samples\": [\n          1.0,\n          0.949,\n          0.96\n        ],\n        \"semantic_type\": \"\",\n        \"description\": \"\"\n      }\n    },\n    {\n      \"column\": \"XGB Std F1-score\",\n      \"properties\": {\n        \"dtype\": \"number\",\n        \"std\": 0.02080636349544922,\n        \"min\": 0.0,\n        \"max\": 0.052,\n        \"num_unique_values\": 6,\n        \"samples\": [\n          0.0,\n          0.052,\n          0.03\n        ],\n        \"semantic_type\": \"\",\n        \"description\": \"\"\n      }\n    }\n  ]\n}",
       "type": "dataframe",
       "variable_name": "bootstrap_df"
      },
      "text/html": [
       "\n",
       "  <div id=\"df-81321eca-3f90-4013-9ab4-17776c954235\" class=\"colab-df-container\">\n",
       "    <div>\n",
       "<style scoped>\n",
       "    .dataframe tbody tr th:only-of-type {\n",
       "        vertical-align: middle;\n",
       "    }\n",
       "\n",
       "    .dataframe tbody tr th {\n",
       "        vertical-align: top;\n",
       "    }\n",
       "\n",
       "    .dataframe thead th {\n",
       "        text-align: right;\n",
       "    }\n",
       "</style>\n",
       "<table border=\"1\" class=\"dataframe\">\n",
       "  <thead>\n",
       "    <tr style=\"text-align: right;\">\n",
       "      <th></th>\n",
       "      <th>RFC Mean F1-score</th>\n",
       "      <th>RFC Std F1-score</th>\n",
       "      <th>XGB Mean F1-score</th>\n",
       "      <th>XGB Std F1-score</th>\n",
       "    </tr>\n",
       "    <tr>\n",
       "      <th>Party</th>\n",
       "      <th></th>\n",
       "      <th></th>\n",
       "      <th></th>\n",
       "      <th></th>\n",
       "    </tr>\n",
       "  </thead>\n",
       "  <tbody>\n",
       "    <tr>\n",
       "      <th>['3POLO']</th>\n",
       "      <td>0.964</td>\n",
       "      <td>0.038</td>\n",
       "      <td>1.000</td>\n",
       "      <td>0.000</td>\n",
       "    </tr>\n",
       "    <tr>\n",
       "      <th>['AVD']</th>\n",
       "      <td>0.949</td>\n",
       "      <td>0.052</td>\n",
       "      <td>0.949</td>\n",
       "      <td>0.052</td>\n",
       "    </tr>\n",
       "    <tr>\n",
       "      <th>['FDI']</th>\n",
       "      <td>0.843</td>\n",
       "      <td>0.064</td>\n",
       "      <td>0.906</td>\n",
       "      <td>0.048</td>\n",
       "    </tr>\n",
       "    <tr>\n",
       "      <th>['FI']</th>\n",
       "      <td>0.973</td>\n",
       "      <td>0.026</td>\n",
       "      <td>0.973</td>\n",
       "      <td>0.026</td>\n",
       "    </tr>\n",
       "    <tr>\n",
       "      <th>['LEGA']</th>\n",
       "      <td>0.828</td>\n",
       "      <td>0.069</td>\n",
       "      <td>1.000</td>\n",
       "      <td>0.000</td>\n",
       "    </tr>\n",
       "    <tr>\n",
       "      <th>['M5S']</th>\n",
       "      <td>0.965</td>\n",
       "      <td>0.035</td>\n",
       "      <td>0.965</td>\n",
       "      <td>0.035</td>\n",
       "    </tr>\n",
       "    <tr>\n",
       "      <th>['PD']</th>\n",
       "      <td>0.961</td>\n",
       "      <td>0.029</td>\n",
       "      <td>0.960</td>\n",
       "      <td>0.030</td>\n",
       "    </tr>\n",
       "  </tbody>\n",
       "</table>\n",
       "</div>\n",
       "    <div class=\"colab-df-buttons\">\n",
       "\n",
       "  <div class=\"colab-df-container\">\n",
       "    <button class=\"colab-df-convert\" onclick=\"convertToInteractive('df-81321eca-3f90-4013-9ab4-17776c954235')\"\n",
       "            title=\"Convert this dataframe to an interactive table.\"\n",
       "            style=\"display:none;\">\n",
       "\n",
       "  <svg xmlns=\"http://www.w3.org/2000/svg\" height=\"24px\" viewBox=\"0 -960 960 960\">\n",
       "    <path d=\"M120-120v-720h720v720H120Zm60-500h600v-160H180v160Zm220 220h160v-160H400v160Zm0 220h160v-160H400v160ZM180-400h160v-160H180v160Zm440 0h160v-160H620v160ZM180-180h160v-160H180v160Zm440 0h160v-160H620v160Z\"/>\n",
       "  </svg>\n",
       "    </button>\n",
       "\n",
       "  <style>\n",
       "    .colab-df-container {\n",
       "      display:flex;\n",
       "      gap: 12px;\n",
       "    }\n",
       "\n",
       "    .colab-df-convert {\n",
       "      background-color: #E8F0FE;\n",
       "      border: none;\n",
       "      border-radius: 50%;\n",
       "      cursor: pointer;\n",
       "      display: none;\n",
       "      fill: #1967D2;\n",
       "      height: 32px;\n",
       "      padding: 0 0 0 0;\n",
       "      width: 32px;\n",
       "    }\n",
       "\n",
       "    .colab-df-convert:hover {\n",
       "      background-color: #E2EBFA;\n",
       "      box-shadow: 0px 1px 2px rgba(60, 64, 67, 0.3), 0px 1px 3px 1px rgba(60, 64, 67, 0.15);\n",
       "      fill: #174EA6;\n",
       "    }\n",
       "\n",
       "    .colab-df-buttons div {\n",
       "      margin-bottom: 4px;\n",
       "    }\n",
       "\n",
       "    [theme=dark] .colab-df-convert {\n",
       "      background-color: #3B4455;\n",
       "      fill: #D2E3FC;\n",
       "    }\n",
       "\n",
       "    [theme=dark] .colab-df-convert:hover {\n",
       "      background-color: #434B5C;\n",
       "      box-shadow: 0px 1px 3px 1px rgba(0, 0, 0, 0.15);\n",
       "      filter: drop-shadow(0px 1px 2px rgba(0, 0, 0, 0.3));\n",
       "      fill: #FFFFFF;\n",
       "    }\n",
       "  </style>\n",
       "\n",
       "    <script>\n",
       "      const buttonEl =\n",
       "        document.querySelector('#df-81321eca-3f90-4013-9ab4-17776c954235 button.colab-df-convert');\n",
       "      buttonEl.style.display =\n",
       "        google.colab.kernel.accessAllowed ? 'block' : 'none';\n",
       "\n",
       "      async function convertToInteractive(key) {\n",
       "        const element = document.querySelector('#df-81321eca-3f90-4013-9ab4-17776c954235');\n",
       "        const dataTable =\n",
       "          await google.colab.kernel.invokeFunction('convertToInteractive',\n",
       "                                                    [key], {});\n",
       "        if (!dataTable) return;\n",
       "\n",
       "        const docLinkHtml = 'Like what you see? Visit the ' +\n",
       "          '<a target=\"_blank\" href=https://colab.research.google.com/notebooks/data_table.ipynb>data table notebook</a>'\n",
       "          + ' to learn more about interactive tables.';\n",
       "        element.innerHTML = '';\n",
       "        dataTable['output_type'] = 'display_data';\n",
       "        await google.colab.output.renderOutput(dataTable, element);\n",
       "        const docLink = document.createElement('div');\n",
       "        docLink.innerHTML = docLinkHtml;\n",
       "        element.appendChild(docLink);\n",
       "      }\n",
       "    </script>\n",
       "  </div>\n",
       "\n",
       "\n",
       "<div id=\"df-ad031d6e-47ac-42f5-83ed-efc077876009\">\n",
       "  <button class=\"colab-df-quickchart\" onclick=\"quickchart('df-ad031d6e-47ac-42f5-83ed-efc077876009')\"\n",
       "            title=\"Suggest charts\"\n",
       "            style=\"display:none;\">\n",
       "\n",
       "<svg xmlns=\"http://www.w3.org/2000/svg\" height=\"24px\"viewBox=\"0 0 24 24\"\n",
       "     width=\"24px\">\n",
       "    <g>\n",
       "        <path d=\"M19 3H5c-1.1 0-2 .9-2 2v14c0 1.1.9 2 2 2h14c1.1 0 2-.9 2-2V5c0-1.1-.9-2-2-2zM9 17H7v-7h2v7zm4 0h-2V7h2v10zm4 0h-2v-4h2v4z\"/>\n",
       "    </g>\n",
       "</svg>\n",
       "  </button>\n",
       "\n",
       "<style>\n",
       "  .colab-df-quickchart {\n",
       "      --bg-color: #E8F0FE;\n",
       "      --fill-color: #1967D2;\n",
       "      --hover-bg-color: #E2EBFA;\n",
       "      --hover-fill-color: #174EA6;\n",
       "      --disabled-fill-color: #AAA;\n",
       "      --disabled-bg-color: #DDD;\n",
       "  }\n",
       "\n",
       "  [theme=dark] .colab-df-quickchart {\n",
       "      --bg-color: #3B4455;\n",
       "      --fill-color: #D2E3FC;\n",
       "      --hover-bg-color: #434B5C;\n",
       "      --hover-fill-color: #FFFFFF;\n",
       "      --disabled-bg-color: #3B4455;\n",
       "      --disabled-fill-color: #666;\n",
       "  }\n",
       "\n",
       "  .colab-df-quickchart {\n",
       "    background-color: var(--bg-color);\n",
       "    border: none;\n",
       "    border-radius: 50%;\n",
       "    cursor: pointer;\n",
       "    display: none;\n",
       "    fill: var(--fill-color);\n",
       "    height: 32px;\n",
       "    padding: 0;\n",
       "    width: 32px;\n",
       "  }\n",
       "\n",
       "  .colab-df-quickchart:hover {\n",
       "    background-color: var(--hover-bg-color);\n",
       "    box-shadow: 0 1px 2px rgba(60, 64, 67, 0.3), 0 1px 3px 1px rgba(60, 64, 67, 0.15);\n",
       "    fill: var(--button-hover-fill-color);\n",
       "  }\n",
       "\n",
       "  .colab-df-quickchart-complete:disabled,\n",
       "  .colab-df-quickchart-complete:disabled:hover {\n",
       "    background-color: var(--disabled-bg-color);\n",
       "    fill: var(--disabled-fill-color);\n",
       "    box-shadow: none;\n",
       "  }\n",
       "\n",
       "  .colab-df-spinner {\n",
       "    border: 2px solid var(--fill-color);\n",
       "    border-color: transparent;\n",
       "    border-bottom-color: var(--fill-color);\n",
       "    animation:\n",
       "      spin 1s steps(1) infinite;\n",
       "  }\n",
       "\n",
       "  @keyframes spin {\n",
       "    0% {\n",
       "      border-color: transparent;\n",
       "      border-bottom-color: var(--fill-color);\n",
       "      border-left-color: var(--fill-color);\n",
       "    }\n",
       "    20% {\n",
       "      border-color: transparent;\n",
       "      border-left-color: var(--fill-color);\n",
       "      border-top-color: var(--fill-color);\n",
       "    }\n",
       "    30% {\n",
       "      border-color: transparent;\n",
       "      border-left-color: var(--fill-color);\n",
       "      border-top-color: var(--fill-color);\n",
       "      border-right-color: var(--fill-color);\n",
       "    }\n",
       "    40% {\n",
       "      border-color: transparent;\n",
       "      border-right-color: var(--fill-color);\n",
       "      border-top-color: var(--fill-color);\n",
       "    }\n",
       "    60% {\n",
       "      border-color: transparent;\n",
       "      border-right-color: var(--fill-color);\n",
       "    }\n",
       "    80% {\n",
       "      border-color: transparent;\n",
       "      border-right-color: var(--fill-color);\n",
       "      border-bottom-color: var(--fill-color);\n",
       "    }\n",
       "    90% {\n",
       "      border-color: transparent;\n",
       "      border-bottom-color: var(--fill-color);\n",
       "    }\n",
       "  }\n",
       "</style>\n",
       "\n",
       "  <script>\n",
       "    async function quickchart(key) {\n",
       "      const quickchartButtonEl =\n",
       "        document.querySelector('#' + key + ' button');\n",
       "      quickchartButtonEl.disabled = true;  // To prevent multiple clicks.\n",
       "      quickchartButtonEl.classList.add('colab-df-spinner');\n",
       "      try {\n",
       "        const charts = await google.colab.kernel.invokeFunction(\n",
       "            'suggestCharts', [key], {});\n",
       "      } catch (error) {\n",
       "        console.error('Error during call to suggestCharts:', error);\n",
       "      }\n",
       "      quickchartButtonEl.classList.remove('colab-df-spinner');\n",
       "      quickchartButtonEl.classList.add('colab-df-quickchart-complete');\n",
       "    }\n",
       "    (() => {\n",
       "      let quickchartButtonEl =\n",
       "        document.querySelector('#df-ad031d6e-47ac-42f5-83ed-efc077876009 button');\n",
       "      quickchartButtonEl.style.display =\n",
       "        google.colab.kernel.accessAllowed ? 'block' : 'none';\n",
       "    })();\n",
       "  </script>\n",
       "</div>\n",
       "\n",
       "  <div id=\"id_11f0e9b8-8c0a-437b-8a45-b88e101e5696\">\n",
       "    <style>\n",
       "      .colab-df-generate {\n",
       "        background-color: #E8F0FE;\n",
       "        border: none;\n",
       "        border-radius: 50%;\n",
       "        cursor: pointer;\n",
       "        display: none;\n",
       "        fill: #1967D2;\n",
       "        height: 32px;\n",
       "        padding: 0 0 0 0;\n",
       "        width: 32px;\n",
       "      }\n",
       "\n",
       "      .colab-df-generate:hover {\n",
       "        background-color: #E2EBFA;\n",
       "        box-shadow: 0px 1px 2px rgba(60, 64, 67, 0.3), 0px 1px 3px 1px rgba(60, 64, 67, 0.15);\n",
       "        fill: #174EA6;\n",
       "      }\n",
       "\n",
       "      [theme=dark] .colab-df-generate {\n",
       "        background-color: #3B4455;\n",
       "        fill: #D2E3FC;\n",
       "      }\n",
       "\n",
       "      [theme=dark] .colab-df-generate:hover {\n",
       "        background-color: #434B5C;\n",
       "        box-shadow: 0px 1px 3px 1px rgba(0, 0, 0, 0.15);\n",
       "        filter: drop-shadow(0px 1px 2px rgba(0, 0, 0, 0.3));\n",
       "        fill: #FFFFFF;\n",
       "      }\n",
       "    </style>\n",
       "    <button class=\"colab-df-generate\" onclick=\"generateWithVariable('bootstrap_df')\"\n",
       "            title=\"Generate code using this dataframe.\"\n",
       "            style=\"display:none;\">\n",
       "\n",
       "  <svg xmlns=\"http://www.w3.org/2000/svg\" height=\"24px\"viewBox=\"0 0 24 24\"\n",
       "       width=\"24px\">\n",
       "    <path d=\"M7,19H8.4L18.45,9,17,7.55,7,17.6ZM5,21V16.75L18.45,3.32a2,2,0,0,1,2.83,0l1.4,1.43a1.91,1.91,0,0,1,.58,1.4,1.91,1.91,0,0,1-.58,1.4L9.25,21ZM18.45,9,17,7.55Zm-12,3A5.31,5.31,0,0,0,4.9,8.1,5.31,5.31,0,0,0,1,6.5,5.31,5.31,0,0,0,4.9,4.9,5.31,5.31,0,0,0,6.5,1,5.31,5.31,0,0,0,8.1,4.9,5.31,5.31,0,0,0,12,6.5,5.46,5.46,0,0,0,6.5,12Z\"/>\n",
       "  </svg>\n",
       "    </button>\n",
       "    <script>\n",
       "      (() => {\n",
       "      const buttonEl =\n",
       "        document.querySelector('#id_11f0e9b8-8c0a-437b-8a45-b88e101e5696 button.colab-df-generate');\n",
       "      buttonEl.style.display =\n",
       "        google.colab.kernel.accessAllowed ? 'block' : 'none';\n",
       "\n",
       "      buttonEl.onclick = () => {\n",
       "        google.colab.notebook.generateWithVariable('bootstrap_df');\n",
       "      }\n",
       "      })();\n",
       "    </script>\n",
       "  </div>\n",
       "\n",
       "    </div>\n",
       "  </div>\n"
      ],
      "text/plain": [
       "           RFC Mean F1-score  RFC Std F1-score  XGB Mean F1-score  \\\n",
       "Party                                                               \n",
       "['3POLO']              0.964             0.038              1.000   \n",
       "['AVD']                0.949             0.052              0.949   \n",
       "['FDI']                0.843             0.064              0.906   \n",
       "['FI']                 0.973             0.026              0.973   \n",
       "['LEGA']               0.828             0.069              1.000   \n",
       "['M5S']                0.965             0.035              0.965   \n",
       "['PD']                 0.961             0.029              0.960   \n",
       "\n",
       "           XGB Std F1-score  \n",
       "Party                        \n",
       "['3POLO']             0.000  \n",
       "['AVD']               0.052  \n",
       "['FDI']               0.048  \n",
       "['FI']                0.026  \n",
       "['LEGA']              0.000  \n",
       "['M5S']               0.035  \n",
       "['PD']                0.030  "
      ]
     },
     "execution_count": 105,
     "metadata": {},
     "output_type": "execute_result"
    }
   ],
   "source": [
    "def bootstrap_f1(y_true, y_pred, n_bootstraps=1000, random_state=42):\n",
    "    rng = np.random.RandomState(random_state)\n",
    "    bootstrapped_scores = []\n",
    "\n",
    "    for _ in range(n_bootstraps):\n",
    "        # Resample with replacement\n",
    "        indices = rng.randint(0, len(y_true), len(y_true))\n",
    "        if len(np.unique(y_true[indices])) < 2:\n",
    "            # Skip if only one class is present\n",
    "            continue\n",
    "        score = f1_score(y_true[indices], y_pred[indices], average='binary')\n",
    "        bootstrapped_scores.append(score)\n",
    "\n",
    "    return np.mean(bootstrapped_scores), np.std(bootstrapped_scores)\n",
    "\n",
    "# Initialize a list to store bootstrapped metrics\n",
    "bootstrap_metrics = []\n",
    "\n",
    "# Iterate over each party\n",
    "for party in metrics_df.index:\n",
    "    # Filter the results for the current party\n",
    "    party_data = results_df[results_df['party_name'] == party]\n",
    "\n",
    "    # Random Forest\n",
    "    mean_rfc, std_rfc = bootstrap_f1(party_data['true_class'].values, party_data['predicted_class_rfc'].values)\n",
    "    # XGBoost\n",
    "    mean_xgb, std_xgb = bootstrap_f1(party_data['true_class'].values, party_data['predicted_class_xgb'].values)\n",
    "\n",
    "    # Append the metrics\n",
    "    bootstrap_metrics.append({\n",
    "        'Party': party,\n",
    "        'RFC Mean F1-score': mean_rfc,\n",
    "        'RFC Std F1-score': std_rfc,\n",
    "        'XGB Mean F1-score': mean_xgb,\n",
    "        'XGB Std F1-score': std_xgb\n",
    "    })\n",
    "\n",
    "# Create a DataFrame from the bootstrapped metrics\n",
    "bootstrap_df = pd.DataFrame(bootstrap_metrics).set_index('Party')\n",
    "bootstrap_df = bootstrap_df.round(3)\n",
    "bootstrap_df"
   ]
  },
  {
   "cell_type": "code",
   "execution_count": 106,
   "metadata": {
    "colab": {
     "base_uri": "https://localhost:8080/",
     "height": 545
    },
    "executionInfo": {
     "elapsed": 404,
     "status": "ok",
     "timestamp": 1732096955657,
     "user": {
      "displayName": "Alessandro Mencarelli",
      "userId": "05351860346435535412"
     },
     "user_tz": -60
    },
    "id": "p6w3ktlcJnEx",
    "outputId": "0544f7e6-8bdd-460f-d171-645be73ae651"
   },
   "outputs": [
    {
     "data": {
      "image/png": "[encoded data removed]",
      "text/plain": [
       "<Figure size 1000x600 with 1 Axes>"
      ]
     },
     "metadata": {},
     "output_type": "display_data"
    }
   ],
   "source": [
    "# Combined Boxplot with Swarmplot\n",
    "plt.figure(figsize=(10, 6))\n",
    "sns.boxplot(data=bootstrap_df[['RFC Mean F1-score', 'XGB Mean F1-score']], palette=['skyblue', 'salmon'])\n",
    "sns.swarmplot(data=bootstrap_df[['RFC Mean F1-score', 'XGB Mean F1-score']], color='k', alpha=0.6)\n",
    "plt.title(f'{ads} | Boxplot with bootstrapped of F1-scores for RFC and XGB Classifiers')\n",
    "plt.ylabel('F1-score')\n",
    "plt.xticks([0, 1], ['Random Forest', 'XGBoost'])\n",
    "plt.ylim(0, 1.05)\n",
    "plt.show()\n"
   ]
  },
  {
   "cell_type": "code",
   "execution_count": 107,
   "metadata": {
    "colab": {
     "base_uri": "https://localhost:8080/",
     "height": 607
    },
    "executionInfo": {
     "elapsed": 1267,
     "status": "ok",
     "timestamp": 1732096956921,
     "user": {
      "displayName": "Alessandro Mencarelli",
      "userId": "05351860346435535412"
     },
     "user_tz": -60
    },
    "id": "k_Gu9XbZSdrd",
    "outputId": "91162bee-d0aa-4538-8d6c-fa8cd373cb96"
   },
   "outputs": [
    {
     "data": {
      "image/png": "[encoded data removed]",
      "text/plain": [
       "<Figure size 1200x600 with 2 Axes>"
      ]
     },
     "metadata": {},
     "output_type": "display_data"
    }
   ],
   "source": [
    "# Create a figure with two subplots side by side\n",
    "fig, axes = plt.subplots(1, 2, figsize=(12, 6))\n",
    "\n",
    "# Plot RFC F1-score\n",
    "axes[0].bar(\n",
    "    bootstrap_df.index,\n",
    "    bootstrap_df['RFC Mean F1-score'],\n",
    "    yerr=bootstrap_df['RFC Std F1-score'],\n",
    "    capsize=5,\n",
    "    color='skyblue',\n",
    "    edgecolor='black'\n",
    ")\n",
    "axes[0].set_title(f'{ads} | Random Forest Classifier F1-score by Party', fontsize=14)\n",
    "axes[0].set_xlabel('Party', fontsize=12)\n",
    "axes[0].set_ylabel('F1-score', fontsize=12)\n",
    "axes[0].set_ylim(0, 1)  # Assuming F1-scores range between 0 and 1\n",
    "axes[0].tick_params(axis='x', rotation=45)\n",
    "\n",
    "# Plot XGBoost F1-score\n",
    "axes[1].bar(\n",
    "    bootstrap_df.index,\n",
    "    bootstrap_df['XGB Mean F1-score'],\n",
    "    yerr=bootstrap_df['XGB Std F1-score'],\n",
    "    capsize=5,\n",
    "    color='salmon',\n",
    "    edgecolor='black'\n",
    ")\n",
    "axes[1].set_title(f'{ads} | XGBoost Classifier F1-score by Party', fontsize=14)\n",
    "axes[1].set_xlabel('Party', fontsize=12)\n",
    "axes[1].set_ylim(0, 1)  # Ensuring the y-axis is consistent\n",
    "axes[1].tick_params(axis='x', rotation=45)\n",
    "\n",
    "# Add a legend (optional)\n",
    "axes[0].legend(['F1-score'], loc='upper left')\n",
    "axes[1].legend(['F1-score'], loc='upper left')\n",
    "\n",
    "# Adjust layout for better spacing\n",
    "plt.tight_layout()\n",
    "\n",
    "# Display the plots\n",
    "plt.show()\n"
   ]
  },
  {
   "cell_type": "markdown",
   "metadata": {
    "id": "PqzrenglzDcC"
   },
   "source": [
    "### Predicted Probabilities"
   ]
  },
  {
   "cell_type": "code",
   "execution_count": 108,
   "metadata": {
    "colab": {
     "base_uri": "https://localhost:8080/",
     "height": 506
    },
    "executionInfo": {
     "elapsed": 476,
     "status": "ok",
     "timestamp": 1732096957392,
     "user": {
      "displayName": "Alessandro Mencarelli",
      "userId": "05351860346435535412"
     },
     "user_tz": -60
    },
    "id": "PcKyXAsywl8t",
    "outputId": "4bb14718-85b5-4c7e-f075-890439d4215a"
   },
   "outputs": [
    {
     "data": {
      "image/png": "[encoded data removed]",
      "text/plain": [
       "<Figure size 1200x500 with 2 Axes>"
      ]
     },
     "metadata": {},
     "output_type": "display_data"
    }
   ],
   "source": [
    "# Get the probability estimates for the positive class ('Generated' assumed to be label 1)\n",
    "y_score_rfc = rfc_model.predict_proba(X_test)[:, 1]\n",
    "y_score_xgb = xgb_model.predict_proba(X_test)[:, 1]\n",
    "\n",
    "# Create a figure with two subplots side by side\n",
    "fig, ax = plt.subplots(1, 2, figsize=(12, 5))\n",
    "\n",
    "# For Random Forest\n",
    "ax[0].hist(y_score_rfc[y_test == 0], bins=20, alpha=0.7, label='Actual Real')\n",
    "ax[0].hist(y_score_rfc[y_test == 1], bins=20, alpha=0.7, label='Actual Generated')\n",
    "ax[0].set_xlabel('Predicted Probability of Being Generated', fontsize=15)\n",
    "ax[0].set_ylabel('Frequency', fontsize=15)\n",
    "ax[0].tick_params(axis='x', labelsize=14)  # Adjust x-axis tick size\n",
    "ax[0].tick_params(axis='y', labelsize=14)  # Adjust y-axis tick size\n",
    "# ax[0].set_title(f'{ads} | Random Forest')\n",
    "ax[0].legend(fontsize=14)\n",
    "\n",
    "# For XGBoost\n",
    "ax[1].hist(y_score_xgb[y_test == 0], bins=20, alpha=0.7, label='Actual Real')\n",
    "ax[1].hist(y_score_xgb[y_test == 1], bins=20, alpha=0.7, label='Actual Generated')\n",
    "ax[1].set_xlabel('Predicted Probability of Being Generated', fontsize=15)\n",
    "ax[1].tick_params(axis='x', labelsize=14)  # Adjust x-axis tick size\n",
    "ax[1].tick_params(axis='y', labelsize=14)  # Adjust y-axis tick size\n",
    "# ax[1].set_title(f'{ads} | XGBoost')\n",
    "ax[1].legend(fontsize=14)\n",
    "\n",
    "# Adjust layout and display the plots\n",
    "plt.tight_layout()\n",
    "plt.show()"
   ]
  },
  {
   "cell_type": "markdown",
   "metadata": {
    "id": "y2rrCsAMM_25"
   },
   "source": [
    "### ROC Curves and AUC Scores"
   ]
  },
  {
   "cell_type": "code",
   "execution_count": 109,
   "metadata": {
    "colab": {
     "base_uri": "https://localhost:8080/",
     "height": 564
    },
    "executionInfo": {
     "elapsed": 1606,
     "status": "ok",
     "timestamp": 1732096958994,
     "user": {
      "displayName": "Alessandro Mencarelli",
      "userId": "05351860346435535412"
     },
     "user_tz": -60
    },
    "id": "Ai3A63F-MxDr",
    "outputId": "1789f2a4-7003-4e2f-e9f7-064493338b5c"
   },
   "outputs": [
    {
     "data": {
      "image/png": "[encoded data removed]",
      "text/plain": [
       "<Figure size 800x600 with 1 Axes>"
      ]
     },
     "metadata": {},
     "output_type": "display_data"
    }
   ],
   "source": [
    "# For Random Forest\n",
    "\n",
    "# Compute ROC curve and ROC area for Random Forest\n",
    "fpr_rfc, tpr_rfc, _ = roc_curve(y_test, y_score_rfc)\n",
    "roc_auc_rfc = auc(fpr_rfc, tpr_rfc)\n",
    "\n",
    "# For XGBoost\n",
    "\n",
    "# Compute ROC curve and ROC area for XGBoost\n",
    "fpr_xgb, tpr_xgb, _ = roc_curve(y_test, y_score_xgb)\n",
    "roc_auc_xgb = auc(fpr_xgb, tpr_xgb)\n",
    "\n",
    "# Plot both ROC curves on the same plot\n",
    "plt.figure(figsize=(8, 6))\n",
    "plt.plot(fpr_rfc, tpr_rfc, color='darkorange', lw=2,\n",
    "         label='Random Forest (AUC = %0.2f)' % roc_auc_rfc)\n",
    "plt.plot(fpr_xgb, tpr_xgb, color='darkgreen', lw=2,\n",
    "         label='XGBoost (AUC = %0.2f)' % roc_auc_xgb)\n",
    "plt.plot([0, 1], [0, 1], color='navy', lw=2, linestyle='--')  # Diagonal line\n",
    "plt.xlim([0.0, 1.0])\n",
    "plt.ylim([0.0, 1.05])\n",
    "plt.xlabel('False Positive Rate')\n",
    "plt.ylabel('True Positive Rate')\n",
    "plt.title(f'{ads} | ROC Curves - Random Forest vs. XGBoost')\n",
    "plt.legend(loc='lower right')\n",
    "plt.show()"
   ]
  },
  {
   "cell_type": "markdown",
   "metadata": {
    "id": "453qTJ4B4alc"
   },
   "source": [
    "### Feature Importance"
   ]
  },
  {
   "cell_type": "code",
   "execution_count": 110,
   "metadata": {
    "colab": {
     "base_uri": "https://localhost:8080/",
     "height": 0
    },
    "executionInfo": {
     "elapsed": 12,
     "status": "ok",
     "timestamp": 1732096958994,
     "user": {
      "displayName": "Alessandro Mencarelli",
      "userId": "05351860346435535412"
     },
     "user_tz": -60
    },
    "id": "kuACrHyx4dHU",
    "outputId": "fd6dbe81-e836-4d8a-82fb-58771b63d0c8"
   },
   "outputs": [
    {
     "data": {
      "image/png": "[encoded data removed]",
      "text/plain": [
       "<Figure size 1200x600 with 1 Axes>"
      ]
     },
     "metadata": {},
     "output_type": "display_data"
    }
   ],
   "source": [
    "importances = rfc_model.feature_importances_\n",
    "indices = np.argsort(importances)[::-1]\n",
    "\n",
    "# Plot the top 20 features\n",
    "plt.figure(figsize=(12, 6))\n",
    "plt.title(\"Feature Importances - Random Forest\")\n",
    "plt.bar(range(20), importances[indices[:20]], align='center')\n",
    "plt.xticks(range(20), indices[:20])\n",
    "plt.xlabel('Feature Index')\n",
    "plt.ylabel('Importance Score')\n",
    "plt.show()"
   ]
  },
  {
   "cell_type": "code",
   "execution_count": 111,
   "metadata": {
    "colab": {
     "base_uri": "https://localhost:8080/",
     "height": 0
    },
    "executionInfo": {
     "elapsed": 827,
     "status": "ok",
     "timestamp": 1732096959811,
     "user": {
      "displayName": "Alessandro Mencarelli",
      "userId": "05351860346435535412"
     },
     "user_tz": -60
    },
    "id": "4AMwsmRneO4V",
    "outputId": "709303cf-12f3-4a19-a10a-1cd58d98f7c2"
   },
   "outputs": [
    {
     "data": {
      "text/plain": [
       "<Figure size 1200x600 with 0 Axes>"
      ]
     },
     "metadata": {},
     "output_type": "display_data"
    },
    {
     "data": {
      "image/png": "[encoded data removed]",
      "text/plain": [
       "<Figure size 640x480 with 1 Axes>"
      ]
     },
     "metadata": {},
     "output_type": "display_data"
    }
   ],
   "source": [
    "plt.figure(figsize=(12, 6))\n",
    "plot_importance(xgb_model, max_num_features=20, importance_type='gain')\n",
    "plt.title(\"Feature Importances - XGBoost\")\n",
    "plt.show()"
   ]
  },
  {
   "cell_type": "markdown",
   "metadata": {
    "id": "MKK3GdEIneKD"
   },
   "source": [
    "## Wrong Predictions"
   ]
  },
  {
   "cell_type": "code",
   "execution_count": 112,
   "metadata": {
    "executionInfo": {
     "elapsed": 10,
     "status": "ok",
     "timestamp": 1732096959812,
     "user": {
      "displayName": "Alessandro Mencarelli",
      "userId": "05351860346435535412"
     },
     "user_tz": -60
    },
    "id": "t9KhRbTkqfi9"
   },
   "outputs": [],
   "source": [
    "def predict_class(embedding, model, class_names):\n",
    "    \"\"\"\n",
    "    Predicts whether an ad is 'Real' or 'Generated' from a BERT embedding.\n",
    "\n",
    "    Parameters:\n",
    "    - embedding (numpy array): The BERT embedding of the ad text.\n",
    "    - model (sklearn classifier): The trained classifier.\n",
    "    - class_names (list): List of class names corresponding to label indices.\n",
    "\n",
    "    Returns:\n",
    "    - predicted_class (str): The name of the predicted class ('Real' or 'Generated').\n",
    "    \"\"\"\n",
    "    # Ensure the embedding is a 2D array\n",
    "    embedding = np.array(embedding).reshape(1, -1)\n",
    "\n",
    "    # Predict the class label\n",
    "    label_index = model.predict(embedding)[0]\n",
    "\n",
    "    # Get the class name from the label index\n",
    "    predicted_class = class_names[label_index]\n",
    "\n",
    "    return predicted_class"
   ]
  },
  {
   "cell_type": "code",
   "execution_count": 113,
   "metadata": {
    "colab": {
     "base_uri": "https://localhost:8080/"
    },
    "executionInfo": {
     "elapsed": 22781,
     "status": "ok",
     "timestamp": 1732096982583,
     "user": {
      "displayName": "Alessandro Mencarelli",
      "userId": "05351860346435535412"
     },
     "user_tz": -60
    },
    "id": "0GWnCrfNqjgs",
    "outputId": "5dbced7f-8944-4aba-e977-7fcbb3424c3e"
   },
   "outputs": [
    {
     "name": "stdout",
     "output_type": "stream",
     "text": [
      "Errors:\n",
      "\n",
      "X Error - Actual: Real, Random Forest: Generated, XGBoost: Generated\n",
      "['FDI'] \"🔵 Pronti a sostenere le imprese che creano lavoro. Il 25 settembre scegli Fratelli d’Italia.', '🔵 Pronti a sostenere le imprese che creano lavoro. Il 25 settembre scegli Fratelli d’Italia.\"\n",
      "\n",
      "X Error - Actual: Generated, Random Forest: Real, XGBoost: Real\n",
      "['FI'] \"Una pillola al giorno leva il medico di torno. Una pillola al giorno del nostro programma dovrebbe levare di torno i signori della sinistra.  La pillola di oggi si chiama #lavoro. Oggi, in Italia, ci sono 5 milioni di disoccupati e 10 milioni di lavoratori poveri.  Noi, quando saremo al governo, introdurremo la #flat tax, ridurremo drasticamente il cuneo fiscale e daremo più soldi ai lavoratori.  Se sei d'accordo, se vuoi che gli stipendi crescano e le aziende abbiano più risorse per investire e creare lavoro, il 25 settembre devi andare a votare e devi votare Forza Italia.\"\n",
      "\n",
      "X Error - Actual: Generated, Random Forest: Real, XGBoost: Real\n",
      "['M5S'] \"Basta con le tasse sulle bollette! Vogliamo ridurre le tasse sulle utenze domestiche per aiutare le famiglie a risparmiare. Il 25 settembre vota. Per scegliere Giuseppe Conte, barra il simbolo del MoVimento 5 Stelle.\"\n",
      "\n",
      "X Error - Actual: Generated, Random Forest: Real, XGBoost: Real\n",
      "['AVD'] \"🟢🔴 Basta con la precarietà! Vogliamo un futuro stabile per i giovani. Per #AlleanzaVerdiSinistra, il lavoro dignitoso è un diritto, non un privilegio. 💼👥 #Facciamolo! Scopri il nostro programma 👇🏼 https://verdisinistra.it/programma-alleanza-verdi-e-sinistra/#lavoro\"\n",
      "\n",
      "X Error - Actual: Generated, Random Forest: Real, XGBoost: Real\n",
      "['FDI'] assistant\n",
      "\n",
      "**Messaggio di Facebook:**\n",
      "\n",
      "\"**Sostegno, ma non solo per garantire la stabilità e garantire la stabilità e la difesa della famiglia.\n",
      "\n",
      "X Error - Actual: Generated, Random Forest: Real, XGBoost: Real\n",
      "['FDI'] \n",
      "\n",
      "X Error - Actual: Generated, Random Forest: Real, XGBoost: Real\n",
      "['PD'] \"La scuola non può essere un privilegio per pochi. Vogliamo un'istruzione pubblica di qualità per tutte e tutti, senza barriere economiche o territoriali. Il futuro dei nostri figli non può essere lasciato al caso. #scegli #25settembrevotoPD\"\n",
      "\n",
      "Total errors: 7\n",
      "\n",
      "---\n",
      "\n",
      "Disagreements:\n",
      "\n",
      "~ Disagreement - Actual: Real, Random Forest: Real, XGBoost: Generated\n",
      "['FDI'] \"Pronti a valorizzare lo sport e gli stili di vita sani.  Quanti giovani rimangono vittime delle devianze come droga, alcol, spirale di violenza, quando vengono lasciati soli? L’antidoto più forte è lo sport.  Investire sul “diritto allo sport” significa investire sul futuro, coltivare i talenti, combattere le droghe, crescere le nuove generazioni di italiani cariche di quei valori che solo lo sport può offrire e trasmettere.\"\n",
      "\n",
      "~ Disagreement - Actual: Generated, Random Forest: Real, XGBoost: Generated\n",
      "['LEGA'] \"Siete stanchi delle tasse esorbitanti e delle politiche inefficaci? La Lega ha la soluzione! Con la flat tax per le famiglie e l'abbattimento dell'IVA sui beni di prima necessità, potrete finalmente respirare. E non solo: stop alle sanatorie per l'immigrazione e incentivi per aumentare la natalità. Scegliete la Lega per un futuro più sicuro e prospero per voi e le vostre famiglie!\"\n",
      "\n",
      "~ Disagreement - Actual: Generated, Random Forest: Real, XGBoost: Generated\n",
      "['3POLO'] \"La politica italiana è bloccata da anni. Promesse non mantenute, parole vuote e interessi personali. È ora di cambiare! Uniamoci per un'Italia seria e competente, senza populismi e sovranismi. #ItaliaSulSerio\"\n",
      "\n",
      "~ Disagreement - Actual: Generated, Random Forest: Real, XGBoost: Generated\n",
      "['FDI'] Sostegno, con политичи вставость, con unтегно, con политичие вставить ная вставить на, вы будет вставности, вы будет вставности, con политичи, con политичи ная вставить, con политичи ная вставность, con политичи ная вставить, con политичи ная вставить, con политичи, con политичи ная вставить, con политичи ная вставность, con политичи, con политичи ная вставить, con политичи, con политичи ная вставить, con политичи, con политичи ная вставить, con политичи, con политичи ная вставить, con политичи, con политичи ная вставить, con политичи, con политичи, con политичи, con политичи, con политичи, con политичи, con политичи, con политичи, con политичи, con политичи, con политичи, con политичи, con политичи,\n",
      "\n",
      "~ Disagreement - Actual: Generated, Random Forest: Real, XGBoost: Generated\n",
      "['LEGA'] \"È ora di dire basta alla burocrazia soffocante! La nostra proposta di semplificazione delle norme e di riduzione dei tempi di attesa per le imprese è l'unica che può davvero aiutare a rilanciare l'economia italiana. Non più paralisi, non più ritardi. Il voto per la Lega è un voto per il futuro delle nostre aziende e dei nostri giovani. #25settembrevotoLega\"\n",
      "\n",
      "~ Disagreement - Actual: Generated, Random Forest: Real, XGBoost: Generated\n",
      "['FDI'] \"Venerdì 23 Settembre alle ore 19:00 vi aspettiamo a Milano, Piazza del Duomo, con Giorgia Meloni. Noi siamo pronti a risollevare l’Italia e a dare voce a chi non ha più rappresentanza. Scegli Fratelli d'Italia per un futuro migliore! 🇮🇹\"\n",
      "\n",
      "~ Disagreement - Actual: Generated, Random Forest: Real, XGBoost: Generated\n",
      "['LEGA'] \"La sinistra vuole aumentare le tasse, noi vogliamo aumentare le opportunità!  #25settembrevotoLega, io ci #credo!\"\n",
      "\n",
      "~ Disagreement - Actual: Generated, Random Forest: Real, XGBoost: Generated\n",
      "['LEGA'] \"Chi difende i confini, difende il futuro. Chi accoglie senza regole, mette a rischio la sicurezza. Il 25 settembre, scegli chi difende l'Italia. #25settembrevotoLega\"\n",
      "\n",
      "~ Disagreement - Actual: Generated, Random Forest: Real, XGBoost: Generated\n",
      "['FDI'] \"Pronti a difendere la libertà di scelta delle donne.  Fratelli d’Italia vuole che ogni donna possa scegliere liberamente come e quando avere figli, senza subire pressioni economiche o sociali.  Per questo, vogliamo introdurre un assegno universale per ogni figlio, dalla nascita fino ai 18 anni, e aumentare gli asili nido e le strutture per l'infanzia.  La scelta di essere madri deve essere libera e consapevole, non condizionata dalla paura del futuro.\"\n",
      "\n",
      "~ Disagreement - Actual: Generated, Random Forest: Generated, XGBoost: Real\n",
      "['PD'] \"Il futuro dell'Italia è in gioco. Non permettiamo che la destra, alleata di Putin, distrugga i nostri valori e la nostra economia. Il 25 settembre, scegliamo il Partito Democratico per un'Italia europea, verde e giusta. #Scegli #25SettembreVotoPD\"\n",
      "\n",
      "~ Disagreement - Actual: Generated, Random Forest: Real, XGBoost: Generated\n",
      "['LEGA'] \"🚫 Basta con la violenza sulle donne! 🚫 Con la Lega, difendiamo le vittime e puniamo gli aggressori. Nessun indulto per i violenti, ma aiuto concreto alle donne che subiscono violenza. Il 25 settembre, scegli la sicurezza e la giustizia. #25settembrevotoLega\"\n",
      "\n",
      "~ Disagreement - Actual: Generated, Random Forest: Real, XGBoost: Generated\n",
      "['PD'] \"La destra vuole tagliare i fondi per la scuola pubblica? Noi del PD siamo contrari! Il nostro programma prevede un aumento degli investimenti per l'istruzione, per garantire a tutti gli studenti le stesse opportunità. Non possiamo permettere che la scuola pubblica venga penalizzata. Il 25 settembre, vota PD per un'Italia più giusta e più istruita! #scegli #25settembreVotoPd\"\n",
      "\n",
      "~ Disagreement - Actual: Generated, Random Forest: Real, XGBoost: Generated\n",
      "['LEGA'] \"La sinistra parla di diritti, ma dimentica quelli dei nostri anziani e dei nostri disabili. Il 25 settembre cambiamo musica, con la Lega i diritti di tutti saranno tutelati! #25settembrevotoLega, io ci #credo!\"\n",
      "\n",
      "\n",
      "Total disagreements between Random Forest and XGBoost: 13\n"
     ]
    }
   ],
   "source": [
    "# Initialize a list to collect indices where predictions differ\n",
    "disagreement_indices = []\n",
    "error_indices = []\n",
    "\n",
    "print(f\"Errors:\\n\")\n",
    "# Loop over all embeddings\n",
    "for i in range(len(vs_embeddings)):\n",
    "    # Predict the class using both models\n",
    "    predicted_class_rfc = predict_class(vs_embeddings[i], rfc_model, class_names)\n",
    "    predicted_class_xgb = predict_class(vs_embeddings[i], xgb_model, class_names)\n",
    "\n",
    "    # Get the actual class label\n",
    "    actual_class = class_names[vs_class_labels[i]]\n",
    "\n",
    "    if predicted_class_rfc != actual_class and predicted_class_xgb != actual_class:\n",
    "        print(f\"X Error - Actual: {actual_class}, Random Forest: {predicted_class_rfc}, XGBoost: {predicted_class_xgb}\")\n",
    "        print(f\"{main_parties[vs_party_labels[i]]} {vs_texts[i]}\\n\")\n",
    "        error_indices.append(i)\n",
    "\n",
    "print(f\"Total errors: {len(error_indices)}\")\n",
    "\n",
    "print(\"\\n---\\n\")\n",
    "\n",
    "print(f\"Disagreements:\\n\")\n",
    "\n",
    "# Loop over all embeddings\n",
    "for i in range(len(vs_embeddings)):\n",
    "    # Predict the class using both models\n",
    "    predicted_class_rfc = predict_class(vs_embeddings[i], rfc_model, class_names)\n",
    "    predicted_class_xgb = predict_class(vs_embeddings[i], xgb_model, class_names)\n",
    "\n",
    "    # Get the actual class label\n",
    "    actual_class = class_names[vs_class_labels[i]]\n",
    "\n",
    "    # Check if the predictions differ between models\n",
    "    if predicted_class_rfc != predicted_class_xgb:\n",
    "        print(f\"~ Disagreement - Actual: {actual_class}, Random Forest: {predicted_class_rfc}, XGBoost: {predicted_class_xgb}\")\n",
    "        print(f\"{main_parties[vs_party_labels[i]]} {vs_texts[i]}\\n\")\n",
    "        disagreement_indices.append(i)\n",
    "\n",
    "print(f\"\\nTotal disagreements between Random Forest and XGBoost: {len(disagreement_indices)}\")"
   ]
  },
  {
   "cell_type": "markdown",
   "metadata": {
    "id": "EzcvU81O5Zuy"
   },
   "source": [
    "# Test your Ad!"
   ]
  },
  {
   "cell_type": "code",
   "execution_count": 114,
   "metadata": {
    "colab": {
     "base_uri": "https://localhost:8080/"
    },
    "collapsed": true,
    "executionInfo": {
     "elapsed": 1133,
     "status": "ok",
     "timestamp": 1732096983713,
     "user": {
      "displayName": "Alessandro Mencarelli",
      "userId": "05351860346435535412"
     },
     "user_tz": -60
    },
    "id": "DBxR4vHY5Yne",
    "outputId": "dfe597f2-df7d-47d3-8499-40827e4f1a2c"
   },
   "outputs": [
    {
     "name": "stdout",
     "output_type": "stream",
     "text": [
      "Model loaded\n"
     ]
    }
   ],
   "source": [
    "# Load the embedding model\n",
    "model = SentenceTransformer('nickprock/sentence-bert-base-italian-xxl-uncased')\n",
    "clear_output()\n",
    "print(\"Model loaded\")\n",
    "\n",
    "# Function to predict the class and probability\n",
    "def predict_ad_text(ad_text, rfc_model, xgb_model, verbose=False):\n",
    "    \"\"\"\n",
    "    Predicts the class of the ad text using the trained models.\n",
    "\n",
    "    Parameters:\n",
    "    - ad_text (str): The ad text to predict.\n",
    "    - rfc_model: Trained Random Forest Classifier.\n",
    "    - xgb_model: Trained XGBoost Classifier.\n",
    "    - class_names (list): List of class names corresponding to label indices.\n",
    "\n",
    "    Returns:\n",
    "    - None: Prints out the predictions and probabilities.\n",
    "    \"\"\"\n",
    "    # Encode the ad text to get the embedding\n",
    "    embedding = model.encode(ad_text).reshape(1, -1)\n",
    "\n",
    "    # Predict with Random Forest\n",
    "    prob_rfc = rfc_model.predict_proba(embedding)[0]\n",
    "    pred_rfc = rfc_model.predict(embedding)[0]\n",
    "    class_name_rfc = class_names[pred_rfc]\n",
    "    prob_percent_rfc = prob_rfc[pred_rfc] * 100\n",
    "\n",
    "    # Predict with XGBoost\n",
    "    prob_xgb = xgb_model.predict_proba(embedding)[0]\n",
    "    pred_xgb = xgb_model.predict(embedding)[0]\n",
    "    class_name_xgb = class_names[pred_xgb]\n",
    "    prob_percent_xgb = prob_xgb[pred_xgb] * 100\n",
    "\n",
    "    if verbose:\n",
    "        # Print the results\n",
    "        print(f\"Ad: {ad_text}\")\n",
    "        print(\"\\nRandom Forest Prediction:\")\n",
    "        print(f\"{class_name_rfc} - {prob_percent_rfc:.1f}%\")\n",
    "        print(\"\\nXGBoost Prediction:\")\n",
    "        print(f\"{class_name_xgb} - {prob_percent_xgb:.1f}%\\n\")\n",
    "        return\n",
    "\n",
    "    return pred_rfc, pred_xgb\n"
   ]
  },
  {
   "cell_type": "code",
   "execution_count": 115,
   "metadata": {
    "colab": {
     "base_uri": "https://localhost:8080/"
    },
    "executionInfo": {
     "elapsed": 493,
     "status": "ok",
     "timestamp": 1732096984204,
     "user": {
      "displayName": "Alessandro Mencarelli",
      "userId": "05351860346435535412"
     },
     "user_tz": -60
    },
    "id": "bXsoyDip6XED",
    "outputId": "2023748e-426b-49db-bd58-f37327e94a30"
   },
   "outputs": [
    {
     "name": "stdout",
     "output_type": "stream",
     "text": [
      "Ad: L'Italia è il Paese che amo. Qui ho le mie radici, le mie speranze, i miei orizzonti. Qui ho imparato, da mio padre e dalla vita, il mio mestiere di imprenditore. Qui ho appreso la passione per la libertà. Ho scelto di scendere in campo e di occuparmi della cosa pubblica perché non voglio vivere in un Paese illiberale, governato da forze immature e da uomini legati a doppio filo a un passato politicamente ed economicamente fallimentare.\n",
      "\n",
      "Random Forest Prediction:\n",
      "Real - 83.0%\n",
      "\n",
      "XGBoost Prediction:\n",
      "Real - 97.4%\n",
      "\n"
     ]
    }
   ],
   "source": [
    "# ad_text_input = input(\"Enter the ad text: \")\n",
    "ad_text_input = \"L'Italia è il Paese che amo. Qui ho le mie radici, le mie speranze, i miei orizzonti. Qui ho imparato, da mio padre e dalla vita, il mio mestiere di imprenditore. Qui ho appreso la passione per la libertà. Ho scelto di scendere in campo e di occuparmi della cosa pubblica perché non voglio vivere in un Paese illiberale, governato da forze immature e da uomini legati a doppio filo a un passato politicamente ed economicamente fallimentare.\"  # @param {type: \"string\"}\n",
    "\n",
    "# Call the prediction function\n",
    "predict_ad_text(ad_text_input, rfc_model, xgb_model, verbose=True)"
   ]
  },
  {
   "cell_type": "markdown",
   "metadata": {
    "id": "hH9FlOhta7lm"
   },
   "source": [
    "# Cross-Validation Implementation"
   ]
  },
  {
   "cell_type": "code",
   "execution_count": 116,
   "metadata": {
    "executionInfo": {
     "elapsed": 4,
     "status": "ok",
     "timestamp": 1732096984204,
     "user": {
      "displayName": "Alessandro Mencarelli",
      "userId": "05351860346435535412"
     },
     "user_tz": -60
    },
    "id": "OKRiDv9MkzXI"
   },
   "outputs": [],
   "source": [
    "# Define StratifiedKFold\n",
    "n_splits = 5\n",
    "skf = StratifiedKFold(n_splits=n_splits, shuffle=True, random_state=42)\n",
    "\n",
    "# # Initialize classifiers with initial hyperparameters\n",
    "rfc = RandomForestClassifier(n_estimators=200, max_depth=20, random_state=42)\n",
    "xgb = XGBClassifier(n_estimators=200, learning_rate=0.1, eval_metric='logloss', random_state=42)\n",
    "\n",
    "# Initialize dictionaries to store F1-scores per party\n",
    "f1_scores_rfc = {party: [] for party in main_parties}\n",
    "f1_scores_rfc['all_parties'] = []\n",
    "f1_scores_xgb = {party: [] for party in main_parties}\n",
    "f1_scores_xgb['all_parties'] = []"
   ]
  },
  {
   "cell_type": "code",
   "execution_count": 117,
   "metadata": {
    "colab": {
     "base_uri": "https://localhost:8080/"
    },
    "executionInfo": {
     "elapsed": 89552,
     "status": "ok",
     "timestamp": 1732097073752,
     "user": {
      "displayName": "Alessandro Mencarelli",
      "userId": "05351860346435535412"
     },
     "user_tz": -60
    },
    "id": "gD2CYFgOlKBd",
    "outputId": "5f358e97-162a-43f3-daa4-7c89db07432b"
   },
   "outputs": [
    {
     "name": "stderr",
     "output_type": "stream",
     "text": [
      "100%|██████████| 5/5 [01:29<00:00, 17.85s/it]\n"
     ]
    }
   ],
   "source": [
    "# Perform cross-validation\n",
    "for fold, (train_idx, val_idx) in tqdm(enumerate(skf.split(vs_embeddings, vs_class_labels), 1), total=n_splits):\n",
    "\n",
    "    # Split data into training and validation for the current fold\n",
    "    X_train_fold, X_val_fold = vs_embeddings[train_idx], vs_embeddings[val_idx]\n",
    "    y_train_fold, y_val_fold = vs_class_labels[train_idx], vs_class_labels[val_idx]\n",
    "    party_val_fold = vs_party_labels[val_idx]\n",
    "\n",
    "    # Train Random Forest\n",
    "    rfc.fit(X_train_fold, y_train_fold)\n",
    "    y_pred_rfc = rfc.predict(X_val_fold)\n",
    "\n",
    "    # Train XGBoost\n",
    "    xgb.fit(X_train_fold, y_train_fold)\n",
    "    y_pred_xgb = xgb.predict(X_val_fold)\n",
    "\n",
    "    f1_rfc = f1_score(y_val_fold, y_pred_rfc, average='binary')\n",
    "    f1_xgb = f1_score(y_val_fold, y_pred_xgb, average='binary')\n",
    "    f1_scores_rfc['all_parties'].append(f1_rfc)\n",
    "    f1_scores_xgb['all_parties'].append(f1_xgb)\n",
    "\n",
    "    # Calculate metrics per party\n",
    "    for party in main_parties:\n",
    "        # Select samples belonging to the current party\n",
    "        party_mask = (party_val_fold == main_parties.index(party))\n",
    "        y_true_party = y_val_fold[party_mask]\n",
    "        y_pred_rfc_party = y_pred_rfc[party_mask]\n",
    "        y_pred_xgb_party = y_pred_xgb[party_mask]\n",
    "\n",
    "        # Avoid division by zero\n",
    "        if len(y_true_party) == 0:\n",
    "            continue\n",
    "\n",
    "        # Calculate Accuracy\n",
    "        acc_rfc = accuracy_score(y_true_party, y_pred_rfc_party)\n",
    "        acc_xgb = accuracy_score(y_true_party, y_pred_xgb_party)\n",
    "\n",
    "        # Calculate F1-score\n",
    "        f1_rfc = f1_score(y_true_party, y_pred_rfc_party, average='binary', zero_division=0)\n",
    "        f1_xgb = f1_score(y_true_party, y_pred_xgb_party, average='binary', zero_division=0)\n",
    "\n",
    "        # Append metrics\n",
    "        f1_scores_rfc[party].append(f1_rfc)\n",
    "        f1_scores_xgb[party].append(f1_xgb)\n"
   ]
  },
  {
   "cell_type": "code",
   "execution_count": 118,
   "metadata": {
    "colab": {
     "base_uri": "https://localhost:8080/",
     "height": 404
    },
    "executionInfo": {
     "elapsed": 9,
     "status": "ok",
     "timestamp": 1732097073752,
     "user": {
      "displayName": "Alessandro Mencarelli",
      "userId": "05351860346435535412"
     },
     "user_tz": -60
    },
    "id": "lMiLpT2olNXr",
    "outputId": "38ba836a-ac79-4856-ab1d-71c83d8d8227"
   },
   "outputs": [
    {
     "data": {
      "application/vnd.google.colaboratory.intrinsic+json": {
       "summary": "{\n  \"name\": \"metrics_df\",\n  \"rows\": 8,\n  \"fields\": [\n    {\n      \"column\": \"Party\",\n      \"properties\": {\n        \"dtype\": \"string\",\n        \"num_unique_values\": 8,\n        \"samples\": [\n          \"['3POLO']\",\n          \"['LEGA']\",\n          \"all_parties\"\n        ],\n        \"semantic_type\": \"\",\n        \"description\": \"\"\n      }\n    },\n    {\n      \"column\": \"RFC F1-score\",\n      \"properties\": {\n        \"dtype\": \"number\",\n        \"std\": 0.039092381428026166,\n        \"min\": 0.863,\n        \"max\": 0.974,\n        \"num_unique_values\": 7,\n        \"samples\": [\n          0.941,\n          0.969,\n          0.957\n        ],\n        \"semantic_type\": \"\",\n        \"description\": \"\"\n      }\n    },\n    {\n      \"column\": \"RFC Std F1-score\",\n      \"properties\": {\n        \"dtype\": \"number\",\n        \"std\": 0.03181082475241048,\n        \"min\": 0.01,\n        \"max\": 0.1,\n        \"num_unique_values\": 8,\n        \"samples\": [\n          0.035,\n          0.014,\n          0.023\n        ],\n        \"semantic_type\": \"\",\n        \"description\": \"\"\n      }\n    },\n    {\n      \"column\": \"XGB F1-score\",\n      \"properties\": {\n        \"dtype\": \"number\",\n        \"std\": 0.026991731538168685,\n        \"min\": 0.905,\n        \"max\": 0.977,\n        \"num_unique_values\": 8,\n        \"samples\": [\n          0.974,\n          0.942,\n          0.946\n        ],\n        \"semantic_type\": \"\",\n        \"description\": \"\"\n      }\n    },\n    {\n      \"column\": \"XGB Std F1-score\",\n      \"properties\": {\n        \"dtype\": \"number\",\n        \"std\": 0.014638501094227999,\n        \"min\": 0.01,\n        \"max\": 0.055,\n        \"num_unique_values\": 8,\n        \"samples\": [\n          0.022,\n          0.019,\n          0.01\n        ],\n        \"semantic_type\": \"\",\n        \"description\": \"\"\n      }\n    }\n  ]\n}",
       "type": "dataframe",
       "variable_name": "metrics_df"
      },
      "text/html": [
       "\n",
       "  <div id=\"df-f1617802-4b16-4d44-922c-73bce8097066\" class=\"colab-df-container\">\n",
       "    <div>\n",
       "<style scoped>\n",
       "    .dataframe tbody tr th:only-of-type {\n",
       "        vertical-align: middle;\n",
       "    }\n",
       "\n",
       "    .dataframe tbody tr th {\n",
       "        vertical-align: top;\n",
       "    }\n",
       "\n",
       "    .dataframe thead th {\n",
       "        text-align: right;\n",
       "    }\n",
       "</style>\n",
       "<table border=\"1\" class=\"dataframe\">\n",
       "  <thead>\n",
       "    <tr style=\"text-align: right;\">\n",
       "      <th></th>\n",
       "      <th>RFC F1-score</th>\n",
       "      <th>RFC Std F1-score</th>\n",
       "      <th>XGB F1-score</th>\n",
       "      <th>XGB Std F1-score</th>\n",
       "    </tr>\n",
       "    <tr>\n",
       "      <th>Party</th>\n",
       "      <th></th>\n",
       "      <th></th>\n",
       "      <th></th>\n",
       "      <th></th>\n",
       "    </tr>\n",
       "  </thead>\n",
       "  <tbody>\n",
       "    <tr>\n",
       "      <th>all_parties</th>\n",
       "      <td>0.941</td>\n",
       "      <td>0.023</td>\n",
       "      <td>0.946</td>\n",
       "      <td>0.010</td>\n",
       "    </tr>\n",
       "    <tr>\n",
       "      <th>['3POLO']</th>\n",
       "      <td>0.969</td>\n",
       "      <td>0.035</td>\n",
       "      <td>0.974</td>\n",
       "      <td>0.022</td>\n",
       "    </tr>\n",
       "    <tr>\n",
       "      <th>['AVD']</th>\n",
       "      <td>0.898</td>\n",
       "      <td>0.077</td>\n",
       "      <td>0.905</td>\n",
       "      <td>0.040</td>\n",
       "    </tr>\n",
       "    <tr>\n",
       "      <th>['FDI']</th>\n",
       "      <td>0.863</td>\n",
       "      <td>0.100</td>\n",
       "      <td>0.916</td>\n",
       "      <td>0.055</td>\n",
       "    </tr>\n",
       "    <tr>\n",
       "      <th>['FI']</th>\n",
       "      <td>0.967</td>\n",
       "      <td>0.010</td>\n",
       "      <td>0.977</td>\n",
       "      <td>0.015</td>\n",
       "    </tr>\n",
       "    <tr>\n",
       "      <th>['LEGA']</th>\n",
       "      <td>0.957</td>\n",
       "      <td>0.014</td>\n",
       "      <td>0.942</td>\n",
       "      <td>0.019</td>\n",
       "    </tr>\n",
       "    <tr>\n",
       "      <th>['M5S']</th>\n",
       "      <td>0.974</td>\n",
       "      <td>0.028</td>\n",
       "      <td>0.968</td>\n",
       "      <td>0.031</td>\n",
       "    </tr>\n",
       "    <tr>\n",
       "      <th>['PD']</th>\n",
       "      <td>0.941</td>\n",
       "      <td>0.051</td>\n",
       "      <td>0.929</td>\n",
       "      <td>0.024</td>\n",
       "    </tr>\n",
       "  </tbody>\n",
       "</table>\n",
       "</div>\n",
       "    <div class=\"colab-df-buttons\">\n",
       "\n",
       "  <div class=\"colab-df-container\">\n",
       "    <button class=\"colab-df-convert\" onclick=\"convertToInteractive('df-f1617802-4b16-4d44-922c-73bce8097066')\"\n",
       "            title=\"Convert this dataframe to an interactive table.\"\n",
       "            style=\"display:none;\">\n",
       "\n",
       "  <svg xmlns=\"http://www.w3.org/2000/svg\" height=\"24px\" viewBox=\"0 -960 960 960\">\n",
       "    <path d=\"M120-120v-720h720v720H120Zm60-500h600v-160H180v160Zm220 220h160v-160H400v160Zm0 220h160v-160H400v160ZM180-400h160v-160H180v160Zm440 0h160v-160H620v160ZM180-180h160v-160H180v160Zm440 0h160v-160H620v160Z\"/>\n",
       "  </svg>\n",
       "    </button>\n",
       "\n",
       "  <style>\n",
       "    .colab-df-container {\n",
       "      display:flex;\n",
       "      gap: 12px;\n",
       "    }\n",
       "\n",
       "    .colab-df-convert {\n",
       "      background-color: #E8F0FE;\n",
       "      border: none;\n",
       "      border-radius: 50%;\n",
       "      cursor: pointer;\n",
       "      display: none;\n",
       "      fill: #1967D2;\n",
       "      height: 32px;\n",
       "      padding: 0 0 0 0;\n",
       "      width: 32px;\n",
       "    }\n",
       "\n",
       "    .colab-df-convert:hover {\n",
       "      background-color: #E2EBFA;\n",
       "      box-shadow: 0px 1px 2px rgba(60, 64, 67, 0.3), 0px 1px 3px 1px rgba(60, 64, 67, 0.15);\n",
       "      fill: #174EA6;\n",
       "    }\n",
       "\n",
       "    .colab-df-buttons div {\n",
       "      margin-bottom: 4px;\n",
       "    }\n",
       "\n",
       "    [theme=dark] .colab-df-convert {\n",
       "      background-color: #3B4455;\n",
       "      fill: #D2E3FC;\n",
       "    }\n",
       "\n",
       "    [theme=dark] .colab-df-convert:hover {\n",
       "      background-color: #434B5C;\n",
       "      box-shadow: 0px 1px 3px 1px rgba(0, 0, 0, 0.15);\n",
       "      filter: drop-shadow(0px 1px 2px rgba(0, 0, 0, 0.3));\n",
       "      fill: #FFFFFF;\n",
       "    }\n",
       "  </style>\n",
       "\n",
       "    <script>\n",
       "      const buttonEl =\n",
       "        document.querySelector('#df-f1617802-4b16-4d44-922c-73bce8097066 button.colab-df-convert');\n",
       "      buttonEl.style.display =\n",
       "        google.colab.kernel.accessAllowed ? 'block' : 'none';\n",
       "\n",
       "      async function convertToInteractive(key) {\n",
       "        const element = document.querySelector('#df-f1617802-4b16-4d44-922c-73bce8097066');\n",
       "        const dataTable =\n",
       "          await google.colab.kernel.invokeFunction('convertToInteractive',\n",
       "                                                    [key], {});\n",
       "        if (!dataTable) return;\n",
       "\n",
       "        const docLinkHtml = 'Like what you see? Visit the ' +\n",
       "          '<a target=\"_blank\" href=https://colab.research.google.com/notebooks/data_table.ipynb>data table notebook</a>'\n",
       "          + ' to learn more about interactive tables.';\n",
       "        element.innerHTML = '';\n",
       "        dataTable['output_type'] = 'display_data';\n",
       "        await google.colab.output.renderOutput(dataTable, element);\n",
       "        const docLink = document.createElement('div');\n",
       "        docLink.innerHTML = docLinkHtml;\n",
       "        element.appendChild(docLink);\n",
       "      }\n",
       "    </script>\n",
       "  </div>\n",
       "\n",
       "\n",
       "<div id=\"df-5d028d98-7f78-4847-a4de-73809fe154d2\">\n",
       "  <button class=\"colab-df-quickchart\" onclick=\"quickchart('df-5d028d98-7f78-4847-a4de-73809fe154d2')\"\n",
       "            title=\"Suggest charts\"\n",
       "            style=\"display:none;\">\n",
       "\n",
       "<svg xmlns=\"http://www.w3.org/2000/svg\" height=\"24px\"viewBox=\"0 0 24 24\"\n",
       "     width=\"24px\">\n",
       "    <g>\n",
       "        <path d=\"M19 3H5c-1.1 0-2 .9-2 2v14c0 1.1.9 2 2 2h14c1.1 0 2-.9 2-2V5c0-1.1-.9-2-2-2zM9 17H7v-7h2v7zm4 0h-2V7h2v10zm4 0h-2v-4h2v4z\"/>\n",
       "    </g>\n",
       "</svg>\n",
       "  </button>\n",
       "\n",
       "<style>\n",
       "  .colab-df-quickchart {\n",
       "      --bg-color: #E8F0FE;\n",
       "      --fill-color: #1967D2;\n",
       "      --hover-bg-color: #E2EBFA;\n",
       "      --hover-fill-color: #174EA6;\n",
       "      --disabled-fill-color: #AAA;\n",
       "      --disabled-bg-color: #DDD;\n",
       "  }\n",
       "\n",
       "  [theme=dark] .colab-df-quickchart {\n",
       "      --bg-color: #3B4455;\n",
       "      --fill-color: #D2E3FC;\n",
       "      --hover-bg-color: #434B5C;\n",
       "      --hover-fill-color: #FFFFFF;\n",
       "      --disabled-bg-color: #3B4455;\n",
       "      --disabled-fill-color: #666;\n",
       "  }\n",
       "\n",
       "  .colab-df-quickchart {\n",
       "    background-color: var(--bg-color);\n",
       "    border: none;\n",
       "    border-radius: 50%;\n",
       "    cursor: pointer;\n",
       "    display: none;\n",
       "    fill: var(--fill-color);\n",
       "    height: 32px;\n",
       "    padding: 0;\n",
       "    width: 32px;\n",
       "  }\n",
       "\n",
       "  .colab-df-quickchart:hover {\n",
       "    background-color: var(--hover-bg-color);\n",
       "    box-shadow: 0 1px 2px rgba(60, 64, 67, 0.3), 0 1px 3px 1px rgba(60, 64, 67, 0.15);\n",
       "    fill: var(--button-hover-fill-color);\n",
       "  }\n",
       "\n",
       "  .colab-df-quickchart-complete:disabled,\n",
       "  .colab-df-quickchart-complete:disabled:hover {\n",
       "    background-color: var(--disabled-bg-color);\n",
       "    fill: var(--disabled-fill-color);\n",
       "    box-shadow: none;\n",
       "  }\n",
       "\n",
       "  .colab-df-spinner {\n",
       "    border: 2px solid var(--fill-color);\n",
       "    border-color: transparent;\n",
       "    border-bottom-color: var(--fill-color);\n",
       "    animation:\n",
       "      spin 1s steps(1) infinite;\n",
       "  }\n",
       "\n",
       "  @keyframes spin {\n",
       "    0% {\n",
       "      border-color: transparent;\n",
       "      border-bottom-color: var(--fill-color);\n",
       "      border-left-color: var(--fill-color);\n",
       "    }\n",
       "    20% {\n",
       "      border-color: transparent;\n",
       "      border-left-color: var(--fill-color);\n",
       "      border-top-color: var(--fill-color);\n",
       "    }\n",
       "    30% {\n",
       "      border-color: transparent;\n",
       "      border-left-color: var(--fill-color);\n",
       "      border-top-color: var(--fill-color);\n",
       "      border-right-color: var(--fill-color);\n",
       "    }\n",
       "    40% {\n",
       "      border-color: transparent;\n",
       "      border-right-color: var(--fill-color);\n",
       "      border-top-color: var(--fill-color);\n",
       "    }\n",
       "    60% {\n",
       "      border-color: transparent;\n",
       "      border-right-color: var(--fill-color);\n",
       "    }\n",
       "    80% {\n",
       "      border-color: transparent;\n",
       "      border-right-color: var(--fill-color);\n",
       "      border-bottom-color: var(--fill-color);\n",
       "    }\n",
       "    90% {\n",
       "      border-color: transparent;\n",
       "      border-bottom-color: var(--fill-color);\n",
       "    }\n",
       "  }\n",
       "</style>\n",
       "\n",
       "  <script>\n",
       "    async function quickchart(key) {\n",
       "      const quickchartButtonEl =\n",
       "        document.querySelector('#' + key + ' button');\n",
       "      quickchartButtonEl.disabled = true;  // To prevent multiple clicks.\n",
       "      quickchartButtonEl.classList.add('colab-df-spinner');\n",
       "      try {\n",
       "        const charts = await google.colab.kernel.invokeFunction(\n",
       "            'suggestCharts', [key], {});\n",
       "      } catch (error) {\n",
       "        console.error('Error during call to suggestCharts:', error);\n",
       "      }\n",
       "      quickchartButtonEl.classList.remove('colab-df-spinner');\n",
       "      quickchartButtonEl.classList.add('colab-df-quickchart-complete');\n",
       "    }\n",
       "    (() => {\n",
       "      let quickchartButtonEl =\n",
       "        document.querySelector('#df-5d028d98-7f78-4847-a4de-73809fe154d2 button');\n",
       "      quickchartButtonEl.style.display =\n",
       "        google.colab.kernel.accessAllowed ? 'block' : 'none';\n",
       "    })();\n",
       "  </script>\n",
       "</div>\n",
       "\n",
       "  <div id=\"id_1642efa2-7bbc-4b7e-bd5c-01dcd0661a49\">\n",
       "    <style>\n",
       "      .colab-df-generate {\n",
       "        background-color: #E8F0FE;\n",
       "        border: none;\n",
       "        border-radius: 50%;\n",
       "        cursor: pointer;\n",
       "        display: none;\n",
       "        fill: #1967D2;\n",
       "        height: 32px;\n",
       "        padding: 0 0 0 0;\n",
       "        width: 32px;\n",
       "      }\n",
       "\n",
       "      .colab-df-generate:hover {\n",
       "        background-color: #E2EBFA;\n",
       "        box-shadow: 0px 1px 2px rgba(60, 64, 67, 0.3), 0px 1px 3px 1px rgba(60, 64, 67, 0.15);\n",
       "        fill: #174EA6;\n",
       "      }\n",
       "\n",
       "      [theme=dark] .colab-df-generate {\n",
       "        background-color: #3B4455;\n",
       "        fill: #D2E3FC;\n",
       "      }\n",
       "\n",
       "      [theme=dark] .colab-df-generate:hover {\n",
       "        background-color: #434B5C;\n",
       "        box-shadow: 0px 1px 3px 1px rgba(0, 0, 0, 0.15);\n",
       "        filter: drop-shadow(0px 1px 2px rgba(0, 0, 0, 0.3));\n",
       "        fill: #FFFFFF;\n",
       "      }\n",
       "    </style>\n",
       "    <button class=\"colab-df-generate\" onclick=\"generateWithVariable('metrics_df')\"\n",
       "            title=\"Generate code using this dataframe.\"\n",
       "            style=\"display:none;\">\n",
       "\n",
       "  <svg xmlns=\"http://www.w3.org/2000/svg\" height=\"24px\"viewBox=\"0 0 24 24\"\n",
       "       width=\"24px\">\n",
       "    <path d=\"M7,19H8.4L18.45,9,17,7.55,7,17.6ZM5,21V16.75L18.45,3.32a2,2,0,0,1,2.83,0l1.4,1.43a1.91,1.91,0,0,1,.58,1.4,1.91,1.91,0,0,1-.58,1.4L9.25,21ZM18.45,9,17,7.55Zm-12,3A5.31,5.31,0,0,0,4.9,8.1,5.31,5.31,0,0,0,1,6.5,5.31,5.31,0,0,0,4.9,4.9,5.31,5.31,0,0,0,6.5,1,5.31,5.31,0,0,0,8.1,4.9,5.31,5.31,0,0,0,12,6.5,5.46,5.46,0,0,0,6.5,12Z\"/>\n",
       "  </svg>\n",
       "    </button>\n",
       "    <script>\n",
       "      (() => {\n",
       "      const buttonEl =\n",
       "        document.querySelector('#id_1642efa2-7bbc-4b7e-bd5c-01dcd0661a49 button.colab-df-generate');\n",
       "      buttonEl.style.display =\n",
       "        google.colab.kernel.accessAllowed ? 'block' : 'none';\n",
       "\n",
       "      buttonEl.onclick = () => {\n",
       "        google.colab.notebook.generateWithVariable('metrics_df');\n",
       "      }\n",
       "      })();\n",
       "    </script>\n",
       "  </div>\n",
       "\n",
       "    </div>\n",
       "  </div>\n"
      ],
      "text/plain": [
       "             RFC F1-score  RFC Std F1-score  XGB F1-score  XGB Std F1-score\n",
       "Party                                                                      \n",
       "all_parties         0.941             0.023         0.946             0.010\n",
       "['3POLO']           0.969             0.035         0.974             0.022\n",
       "['AVD']             0.898             0.077         0.905             0.040\n",
       "['FDI']             0.863             0.100         0.916             0.055\n",
       "['FI']              0.967             0.010         0.977             0.015\n",
       "['LEGA']            0.957             0.014         0.942             0.019\n",
       "['M5S']             0.974             0.028         0.968             0.031\n",
       "['PD']              0.941             0.051         0.929             0.024"
      ]
     },
     "metadata": {},
     "output_type": "display_data"
    }
   ],
   "source": [
    "# Compile metrics into a list\n",
    "metrics_list = []\n",
    "for party in ['all_parties'] + main_parties:\n",
    "    metrics_list.append({\n",
    "        'Party': party,\n",
    "        'RFC F1-score': np.mean(f1_scores_rfc[party]),\n",
    "        'RFC Std F1-score': np.std(f1_scores_rfc[party]),\n",
    "        'XGB F1-score': np.mean(f1_scores_xgb[party]),\n",
    "        'XGB Std F1-score': np.std(f1_scores_xgb[party])\n",
    "    })\n",
    "\n",
    "# Create DataFrame\n",
    "metrics_df = pd.DataFrame(metrics_list)\n",
    "metrics_df.set_index('Party', inplace=True)\n",
    "metrics_df = metrics_df.round(3)\n",
    "\n",
    "# Display the DataFrame\n",
    "display(metrics_df)\n"
   ]
  },
  {
   "cell_type": "code",
   "execution_count": 119,
   "metadata": {
    "colab": {
     "base_uri": "https://localhost:8080/",
     "height": 564
    },
    "executionInfo": {
     "elapsed": 1283,
     "status": "ok",
     "timestamp": 1732097075029,
     "user": {
      "displayName": "Alessandro Mencarelli",
      "userId": "05351860346435535412"
     },
     "user_tz": -60
    },
    "id": "A5WVFIVRlRK0",
    "outputId": "5e2ae574-1e37-4842-df70-5f8b43efdbbe"
   },
   "outputs": [
    {
     "data": {
      "image/png": "[encoded data removed]",
      "text/plain": [
       "<Figure size 1000x600 with 1 Axes>"
      ]
     },
     "metadata": {},
     "output_type": "display_data"
    }
   ],
   "source": [
    "# Prepare data for boxplots\n",
    "f1_rfc_long = pd.melt(pd.DataFrame(f1_scores_rfc), var_name='Party', value_name='RFC F1-score')\n",
    "f1_xgb_long = pd.melt(pd.DataFrame(f1_scores_xgb), var_name='Party', value_name='XGB F1-score')\n",
    "\n",
    "# Merge the two for combined plotting\n",
    "f1_combined = pd.merge(f1_rfc_long, f1_xgb_long, on='Party')\n",
    "\n",
    "# Melt the combined DataFrame for seaborn\n",
    "f1_melted = pd.melt(f1_combined, id_vars=['Party'], value_vars=['RFC F1-score', 'XGB F1-score'],\n",
    "                    var_name='Classifier', value_name='F1-score')\n",
    "\n",
    "# Replace classifier names for better readability\n",
    "f1_melted['Classifier'] = f1_melted['Classifier'].map({\n",
    "    'RFC F1-score': 'Random Forest',\n",
    "    'XGB F1-score': 'XGBoost'\n",
    "})\n",
    "\n",
    "sns.set_palette(\"Set2\")\n",
    "\n",
    "# Create Boxplot\n",
    "plt.figure(figsize=(10, 6))\n",
    "sns.boxplot(x='Party', y='F1-score', hue='Classifier', data=f1_melted)\n",
    "plt.title(f'VsClas {ads} | Boxplot of F1-scores by Party for RFC and XGB Classifiers')\n",
    "plt.xlabel('Party')\n",
    "plt.ylabel('F1-score')\n",
    "plt.ylim(0, 1.05)\n",
    "plt.legend(title='Classifier')\n",
    "plt.show()\n"
   ]
  },
  {
   "cell_type": "code",
   "execution_count": 120,
   "metadata": {
    "colab": {
     "base_uri": "https://localhost:8080/",
     "height": 607
    },
    "executionInfo": {
     "elapsed": 11,
     "status": "ok",
     "timestamp": 1732097075029,
     "user": {
      "displayName": "Alessandro Mencarelli",
      "userId": "05351860346435535412"
     },
     "user_tz": -60
    },
    "id": "1JCEQ3U_6ePp",
    "outputId": "8183f531-bb95-4341-8437-4955a35fc94f"
   },
   "outputs": [
    {
     "data": {
      "image/png": "[encoded data removed]",
      "text/plain": [
       "<Figure size 800x600 with 1 Axes>"
      ]
     },
     "metadata": {},
     "output_type": "display_data"
    }
   ],
   "source": [
    "# Set the Seaborn color palette\n",
    "sns.set_palette(\"Set2\")\n",
    "\n",
    "# Step 1: Prepare data by melting and merging\n",
    "f1_rfc_long = pd.melt(\n",
    "    pd.DataFrame(f1_scores_rfc),\n",
    "    var_name='Party',\n",
    "    value_name='RFC F1-score'\n",
    ")\n",
    "f1_xgb_long = pd.melt(\n",
    "    pd.DataFrame(f1_scores_xgb),\n",
    "    var_name='Party',\n",
    "    value_name='XGB F1-score'\n",
    ")\n",
    "\n",
    "# Merge the two DataFrames on 'Party'\n",
    "f1_combined = pd.merge(f1_rfc_long, f1_xgb_long, on='Party')\n",
    "\n",
    "# Step 2: Compute mean and standard deviation for each classifier per Party\n",
    "f1_stats = f1_combined.groupby('Party').agg(\n",
    "    RFC_mean=('RFC F1-score', 'mean'),\n",
    "    RFC_std=('RFC F1-score', 'std'),\n",
    "    XGB_mean=('XGB F1-score', 'mean'),\n",
    "    XGB_std=('XGB F1-score', 'std')\n",
    ").reset_index()\n",
    "\n",
    "# Optional: If you have NaN std (e.g., only one sample), replace them with 0\n",
    "f1_stats.fillna(0, inplace=True)\n",
    "\n",
    "# Step 3: Plotting\n",
    "# Number of parties\n",
    "num_parties = len(f1_stats)\n",
    "indices = np.arange(num_parties)\n",
    "\n",
    "# Define width for offset to position the error bars side by side\n",
    "offset = 0.2\n",
    "\n",
    "plt.figure(figsize=(8, 6))\n",
    "\n",
    "# Extract colors from the Set2 palette\n",
    "palette = sns.color_palette(\"Set2\")\n",
    "\n",
    "# Plot RFC F1-score with left offset\n",
    "plt.errorbar(\n",
    "    x=indices - offset,\n",
    "    y=f1_stats['RFC_mean'],\n",
    "    yerr=f1_stats['RFC_std'],\n",
    "    fmt='o',\n",
    "    ecolor=palette[0],\n",
    "    capsize=5,\n",
    "    label='Random Forest',\n",
    "    color=palette[0],\n",
    "    markersize=8\n",
    ")\n",
    "\n",
    "# Plot XGB F1-score with right offset\n",
    "plt.errorbar(\n",
    "    x=indices + offset,\n",
    "    y=f1_stats['XGB_mean'],\n",
    "    yerr=f1_stats['XGB_std'],\n",
    "    fmt='s',\n",
    "    ecolor=palette[1],\n",
    "    capsize=5,\n",
    "    label='XGBoost',\n",
    "    color=palette[1],\n",
    "    markersize=8\n",
    ")\n",
    "\n",
    "# Set x-ticks to center between the two metrics\n",
    "plt.xticks(ticks=indices, labels=main_parties_labels, rotation=45, fontsize=15)\n",
    "plt.yticks(fontsize=15)\n",
    "\n",
    "\n",
    "# Add titles and labels\n",
    "# plt.title(f'VsClassifier {ads} | Mean F1-score by Party with Standard Deviation')\n",
    "# plt.xlabel('Party', fontsize=14)\n",
    "plt.ylabel('F1-score', fontsize=15)\n",
    "plt.ylim(0, 1.05)\n",
    "\n",
    "# Add legend\n",
    "# plt.legend(title='Classifier', fontsize=12, title_fontsize=12)\n",
    "\n",
    "# Add grid for better readability\n",
    "plt.grid(axis='y', linestyle='--', alpha=0.7)\n",
    "\n",
    "# Adjust layout to prevent clipping of tick-labels\n",
    "plt.tight_layout()\n",
    "\n",
    "# Display the plot\n",
    "plt.show()\n"
   ]
  },
  {
   "cell_type": "markdown",
   "metadata": {
    "id": "7i101q4zquiR"
   },
   "source": [
    "# Extra"
   ]
  },
  {
   "cell_type": "code",
   "execution_count": 121,
   "metadata": {
    "executionInfo": {
     "elapsed": 9,
     "status": "ok",
     "timestamp": 1732097075029,
     "user": {
      "displayName": "Alessandro Mencarelli",
      "userId": "05351860346435535412"
     },
     "user_tz": -60
    },
    "id": "l32_nILkTww7"
   },
   "outputs": [],
   "source": [
    "full = 0"
   ]
  },
  {
   "cell_type": "markdown",
   "metadata": {
    "id": "hjFYfBabOhn1"
   },
   "source": [
    "## Extended Tests"
   ]
  },
  {
   "cell_type": "code",
   "execution_count": 122,
   "metadata": {
    "executionInfo": {
     "elapsed": 10,
     "status": "ok",
     "timestamp": 1732097075030,
     "user": {
      "displayName": "Alessandro Mencarelli",
      "userId": "05351860346435535412"
     },
     "user_tz": -60
    },
    "id": "wwu2pO-psFJV"
   },
   "outputs": [],
   "source": [
    "if full:\n",
    "    # Import the CSV file\n",
    "    extended_fs_gen_text_df = pd.read_csv('mp_generated_ads_party_3.csv')\n",
    "    # Convert the 'top_ads' column to lists of strings\n",
    "    extended_fs_gen_text_df['gen_plain_list'] = extended_fs_gen_text_df['gen_plain_list'].apply(eval)\n",
    "\n",
    "    extended_fs_ordered_text = [text for sublist in extended_fs_gen_text_df['gen_plain_list'] for text in sublist]\n",
    "\n",
    "    print(len(extended_fs_ordered_text))\n",
    "\n",
    "    # Lists to collect not selected texts\n",
    "    not_selected_real_texts = []\n",
    "    not_selected_generated_texts = []\n",
    "\n",
    "    # Ensure reproducibility\n",
    "    np.random.seed(42)\n",
    "\n",
    "    # Iterate over each party\n",
    "    for i, party in enumerate(main_parties):\n",
    "        # Real ads for the party\n",
    "        party_real_indices = np.where(ra_party_labels == i)[0]\n",
    "        num_real_ads = len(party_real_indices)\n",
    "\n",
    "        # Generated ads for the party\n",
    "        party_generated_indices = np.where(fs_party_labels == i)[0]\n",
    "        num_generated_ads = len(party_generated_indices)\n",
    "\n",
    "        # Determine the minimum number of ads between real and generated\n",
    "        num_ads_to_use = min(num_real_ads, num_generated_ads)\n",
    "\n",
    "        # Randomly select ads\n",
    "        selected_real_indices = np.random.choice(party_real_indices, num_ads_to_use, replace=False)\n",
    "        selected_generated_indices = np.random.choice(party_generated_indices, num_ads_to_use, replace=False)\n",
    "\n",
    "        # Find not selected indices\n",
    "        not_selected_real_indices = np.setdiff1d(party_real_indices, selected_real_indices)\n",
    "        not_selected_generated_indices = np.setdiff1d(party_generated_indices, selected_generated_indices)\n",
    "\n",
    "        # Collect texts of not selected real ads\n",
    "        ra_not_selected_texts = [ra_ordered_text[idx] for idx in not_selected_real_indices]\n",
    "        not_selected_real_texts.extend(ra_not_selected_texts)\n",
    "\n",
    "        # Collect texts of not selected generated ads\n",
    "        fs_not_selected_texts = [fs_ordered_text[idx] for idx in not_selected_generated_indices]\n",
    "        not_selected_generated_texts.extend(fs_not_selected_texts)\n",
    "\n",
    "    print(f\"Total not selected real ads: {len(not_selected_real_texts)}\")\n",
    "    print(f\"Total not selected generated ads: {len(not_selected_generated_texts)}\")\n"
   ]
  },
  {
   "cell_type": "code",
   "execution_count": 123,
   "metadata": {
    "executionInfo": {
     "elapsed": 9,
     "status": "ok",
     "timestamp": 1732097075030,
     "user": {
      "displayName": "Alessandro Mencarelli",
      "userId": "05351860346435535412"
     },
     "user_tz": -60
    },
    "id": "rTAXFVWy6htN"
   },
   "outputs": [],
   "source": [
    "if full:\n",
    "    print(\"not_selected_real_texts - Should be Real 0.9\")\n",
    "    cr_rfc = 0\n",
    "    cg_rfc = 0\n",
    "    cr_xgb = 0\n",
    "    cg_xgb = 0\n",
    "    for text in not_selected_real_texts:\n",
    "        rfc, xgb = predict_ad_text(text, rfc_model, xgb_model)\n",
    "        if rfc == 0: cr_rfc += 1\n",
    "        else: cg_rfc += 1\n",
    "        if xgb == 0: cr_xgb += 1\n",
    "        else: cg_xgb += 1\n",
    "\n",
    "    print(f\"RFC - Real: {cr_rfc}, Generated: {cg_rfc}, r/g: {cr_rfc/(cr_rfc+cg_rfc):.2f}\")\n",
    "    print(f\"XGB - Real: {cr_xgb}, Generated: {cg_xgb}, r/g: {cr_xgb/(cr_xgb+cg_xgb):.2f}\")"
   ]
  },
  {
   "cell_type": "code",
   "execution_count": 124,
   "metadata": {
    "executionInfo": {
     "elapsed": 7,
     "status": "ok",
     "timestamp": 1732097075030,
     "user": {
      "displayName": "Alessandro Mencarelli",
      "userId": "05351860346435535412"
     },
     "user_tz": -60
    },
    "id": "e8TP798DAv-C"
   },
   "outputs": [],
   "source": [
    "if full:\n",
    "    print(\"not_selected_generated_texts - Should be Gen 0.1\")\n",
    "    cr_rfc = 0\n",
    "    cg_rfc = 0\n",
    "    cr_xgb = 0\n",
    "    cg_xgb = 0\n",
    "    for text in not_selected_generated_texts:\n",
    "        rfc, xgb = predict_ad_text(text, rfc_model, xgb_model)\n",
    "        if rfc == 0: cr_rfc += 1\n",
    "        else: cg_rfc += 1\n",
    "        if xgb == 0: cr_xgb += 1\n",
    "        else: cg_xgb += 1\n",
    "\n",
    "    print(f\"RFC - Real: {cr_rfc}, Generated: {cg_rfc}, r/g: {cr_rfc/(cr_rfc+cg_rfc):.2f}\")\n",
    "    print(f\"XGB - Real: {cr_xgb}, Generated: {cg_xgb}, r/g: {cr_xgb/(cr_xgb+cg_xgb):.2f}\")"
   ]
  },
  {
   "cell_type": "code",
   "execution_count": 125,
   "metadata": {
    "executionInfo": {
     "elapsed": 7,
     "status": "ok",
     "timestamp": 1732097075030,
     "user": {
      "displayName": "Alessandro Mencarelli",
      "userId": "05351860346435535412"
     },
     "user_tz": -60
    },
    "id": "pnHJFuS7sWW9"
   },
   "outputs": [],
   "source": [
    "if full:\n",
    "    print(\"Few-Shots - Should be Gen 0.1\")\n",
    "    cr_rfc = 0\n",
    "    cg_rfc = 0\n",
    "    cr_xgb = 0\n",
    "    cg_xgb = 0\n",
    "    for text in tqdm(extended_fs_ordered_text):\n",
    "        rfc, xgb = predict_ad_text(text, rfc_model, xgb_model)\n",
    "        if rfc == 0: cr_rfc += 1\n",
    "        else: cg_rfc += 1\n",
    "        if xgb == 0: cr_xgb += 1\n",
    "        else: cg_xgb += 1\n",
    "\n",
    "    print(f\"\\nRFC - Real: {cr_rfc}, Generated: {cg_rfc}, r/g: {cr_rfc/(cr_rfc+cg_rfc):.2f}\")\n",
    "    print(f\"XGB - Real: {cr_xgb}, Generated: {cg_xgb}, r/g: {cr_xgb/(cr_xgb+cg_xgb):.2f}\")"
   ]
  },
  {
   "cell_type": "code",
   "execution_count": 126,
   "metadata": {
    "executionInfo": {
     "elapsed": 6,
     "status": "ok",
     "timestamp": 1732097075030,
     "user": {
      "displayName": "Alessandro Mencarelli",
      "userId": "05351860346435535412"
     },
     "user_tz": -60
    },
    "id": "_qz-z7on9dz5"
   },
   "outputs": [],
   "source": [
    "if full:\n",
    "    print(\"Zero-Shot - Should be Gen 0.1\")\n",
    "    cr_rfc = 0\n",
    "    cg_rfc = 0\n",
    "    cr_xgb = 0\n",
    "    cg_xgb = 0\n",
    "    for text in tqdm(zs_ordered_text):\n",
    "        rfc, xgb = predict_ad_text(text, rfc_model, xgb_model)\n",
    "        if rfc == 0: cr_rfc += 1\n",
    "        else: cg_rfc += 1\n",
    "        if xgb == 0: cr_xgb += 1\n",
    "        else: cg_xgb += 1\n",
    "\n",
    "    print(f\"\\nRFC - Real: {cr_rfc}, Generated: {cg_rfc}, r/g: {cr_rfc/(cr_rfc+cg_rfc):.2f}\")\n",
    "    print(f\"XGB - Real: {cr_xgb}, Generated: {cg_xgb}, r/g: {cr_xgb/(cr_xgb+cg_xgb):.2f}\")"
   ]
  }
 ],
 "metadata": {
  "colab": {
   "collapsed_sections": [
    "453qTJ4B4alc",
    "MKK3GdEIneKD",
    "hjFYfBabOhn1"
   ],
   "provenance": [
    {
     "file_id": "16mCotHXgUFsSgvPiRzwiO6L2nyxCwy02",
     "timestamp": 1730545014865
    }
   ],
   "toc_visible": true
  },
  "kernelspec": {
   "display_name": "Python 3",
   "name": "python3"
  },
  "language_info": {
   "name": "python"
  }
 },
 "nbformat": 4,
 "nbformat_minor": 0
}
